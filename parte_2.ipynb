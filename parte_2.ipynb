{
  "nbformat": 4,
  "nbformat_minor": 0,
  "metadata": {
    "kernelspec": {
      "name": "python3",
      "display_name": "Python 3.6",
      "language": "python"
    },
    "language_info": {
      "name": "python",
      "version": "3.6.9",
      "mimetype": "text/x-python",
      "codemirror_mode": {
        "name": "ipython",
        "version": 3
      },
      "pygments_lexer": "ipython3",
      "nbconvert_exporter": "python",
      "file_extension": ".py"
    },
    "colab": {
      "name": "parte-2-ANTIGA.ipynb",
      "provenance": [],
      "toc_visible": true,
      "include_colab_link": true
    }
  },
  "cells": [
    {
      "cell_type": "markdown",
      "metadata": {
        "id": "view-in-github",
        "colab_type": "text"
      },
      "source": [
        "<a href=\"https://colab.research.google.com/github/anajuliabit/desafio-2-2020/blob/master/parte_2.ipynb\" target=\"_parent\"><img src=\"https://colab.research.google.com/assets/colab-badge.svg\" alt=\"Open In Colab\"/></a>"
      ]
    },
    {
      "cell_type": "markdown",
      "metadata": {
        "collapsed": true,
        "id": "iVtCo0jX1Rfk",
        "colab_type": "text"
      },
      "source": [
        "# MARATONA BEHIND THE CODE 2020\n",
        "\n",
        "## DESAFIO 2: PARTE 2"
      ]
    },
    {
      "cell_type": "markdown",
      "metadata": {
        "id": "KKHWNZLj1Rfl",
        "colab_type": "text"
      },
      "source": [
        "### Introdução"
      ]
    },
    {
      "cell_type": "markdown",
      "metadata": {
        "id": "oKMt0L3P1Rfm",
        "colab_type": "text"
      },
      "source": [
        "Na parte 1 deste desafio, você realizou o pré-processamento e o treinamento de um modelo a partir de um conjunto de dados base fornecido. Nesta segunda etapa você irá integrar todas as transformações e eventos de treinamento criados anteriormente em uma Pipeline completa para *deploy* no **Watson Machine Learning**!"
      ]
    },
    {
      "cell_type": "markdown",
      "metadata": {
        "id": "n3waoe6i1Rfn",
        "colab_type": "text"
      },
      "source": [
        "### Preparação do Notebook"
      ]
    },
    {
      "cell_type": "markdown",
      "metadata": {
        "id": "t2JUM8WY1Rfn",
        "colab_type": "text"
      },
      "source": [
        "Primeiro realizaremos a instalação do scikit-learn e a importação das mesmas bibliotecas utilizadas anteriormente"
      ]
    },
    {
      "cell_type": "code",
      "metadata": {
        "id": "KdR1C-gt1Rfo",
        "colab_type": "code",
        "colab": {
          "base_uri": "https://localhost:8080/",
          "height": 88
        },
        "outputId": "c7fe22e7-9c99-4bcb-ae8c-90bdb26d8241"
      },
      "source": [
        "!pip install scikit-learn==0.20.0 --upgrade"
      ],
      "execution_count": 23,
      "outputs": [
        {
          "output_type": "stream",
          "text": [
            "Requirement already up-to-date: scikit-learn==0.20.0 in /usr/local/lib/python3.6/dist-packages (0.20.0)\n",
            "Requirement already satisfied, skipping upgrade: scipy>=0.13.3 in /usr/local/lib/python3.6/dist-packages (from scikit-learn==0.20.0) (1.4.1)\n",
            "Requirement already satisfied, skipping upgrade: numpy>=1.8.2 in /usr/local/lib/python3.6/dist-packages (from scikit-learn==0.20.0) (1.18.5)\n"
          ],
          "name": "stdout"
        }
      ]
    },
    {
      "cell_type": "code",
      "metadata": {
        "id": "03YT3tlk1Rft",
        "colab_type": "code",
        "colab": {}
      },
      "source": [
        "import json\n",
        "import requests\n",
        "import numpy as np\n",
        "import pandas as pd\n",
        "import xgboost as xgb\n",
        "from sklearn.impute import SimpleImputer\n",
        "from sklearn.model_selection import train_test_split\n",
        "from sklearn.ensemble import ExtraTreesClassifier\n",
        "from sklearn.pipeline import Pipeline\n",
        "from sklearn.model_selection import KFold, cross_validate\n",
        "from imblearn.over_sampling import SMOTE"
      ],
      "execution_count": 24,
      "outputs": []
    },
    {
      "cell_type": "markdown",
      "metadata": {
        "id": "qlWybuTm1Rfx",
        "colab_type": "text"
      },
      "source": [
        "É necessário inserir o conjunto de dados base novamente como um dataframe pandas, seguindo as instruções\n",
        "\n",
        "![alt text](https://i.imgur.com/K1DwL9I.png \"importing-csv-as-df\")\n",
        "\n",
        "Após a seleção da opção **\"Insert to code\"**, a célula abaixo será preenchida com o código necessário para importação e leitura dos dados no arquivo .csv como um DataFrame Pandas."
      ]
    },
    {
      "cell_type": "code",
      "metadata": {
        "id": "EMY0TqF51Rfx",
        "colab_type": "code",
        "colab": {
          "base_uri": "https://localhost:8080/",
          "height": 360
        },
        "outputId": "bce622d3-934b-41d1-a9a7-4c538e4cb973"
      },
      "source": [
        "# import types\n",
        "# import pandas as pd\n",
        "# from botocore.client import Config\n",
        "# import ibm_boto3\n",
        "\n",
        "# def __iter__(self): return 0\n",
        "\n",
        "# # @hidden_cell\n",
        "# # The following code accesses a file in your IBM Cloud Object Storage. It includes your credentials.\n",
        "# # You might want to remove those credentials before you share the notebook.\n",
        "# client_a476a5a683ec4d47b59cd07c271eccfd = ibm_boto3.client(service_name='s3',\n",
        "#     ibm_api_key_id='UF8UfW1d8VBFUry-ptPC-t-Sxf7zR5FVgnRwD0pDCUqS',\n",
        "#     ibm_auth_endpoint=\"https://iam.cloud.ibm.com/oidc/token\",\n",
        "#     config=Config(signature_version='oauth'),\n",
        "#     endpoint_url='https://s3.eu-geo.objectstorage.service.networklayer.com')\n",
        "\n",
        "# body = client_a476a5a683ec4d47b59cd07c271eccfd.get_object(Bucket='desafio2-donotdelete-pr-ynhjpdfnvjzy0b',Key='dataset_desafio_2.csv')['Body']\n",
        "# # add missing __iter__ method, so pandas accepts body as file-like object\n",
        "# if not hasattr(body, \"__iter__\"): body.__iter__ = types.MethodType( __iter__, body )\n",
        "\n",
        "df_data_2 = pd.read_csv(\"dataset_desafio_2.csv\")\n",
        "df_data_2.head()\n"
      ],
      "execution_count": 25,
      "outputs": [
        {
          "output_type": "execute_result",
          "data": {
            "text/html": [
              "<div>\n",
              "<style scoped>\n",
              "    .dataframe tbody tr th:only-of-type {\n",
              "        vertical-align: middle;\n",
              "    }\n",
              "\n",
              "    .dataframe tbody tr th {\n",
              "        vertical-align: top;\n",
              "    }\n",
              "\n",
              "    .dataframe thead th {\n",
              "        text-align: right;\n",
              "    }\n",
              "</style>\n",
              "<table border=\"1\" class=\"dataframe\">\n",
              "  <thead>\n",
              "    <tr style=\"text-align: right;\">\n",
              "      <th></th>\n",
              "      <th>MATRICULA</th>\n",
              "      <th>NOME</th>\n",
              "      <th>REPROVACOES_DE</th>\n",
              "      <th>REPROVACOES_EM</th>\n",
              "      <th>REPROVACOES_MF</th>\n",
              "      <th>REPROVACOES_GO</th>\n",
              "      <th>NOTA_DE</th>\n",
              "      <th>NOTA_EM</th>\n",
              "      <th>NOTA_MF</th>\n",
              "      <th>NOTA_GO</th>\n",
              "      <th>INGLES</th>\n",
              "      <th>H_AULA_PRES</th>\n",
              "      <th>TAREFAS_ONLINE</th>\n",
              "      <th>FALTAS</th>\n",
              "      <th>PERFIL</th>\n",
              "    </tr>\n",
              "  </thead>\n",
              "  <tbody>\n",
              "    <tr>\n",
              "      <th>0</th>\n",
              "      <td>502375</td>\n",
              "      <td>Márcia Illiglener</td>\n",
              "      <td>0</td>\n",
              "      <td>0</td>\n",
              "      <td>0</td>\n",
              "      <td>0</td>\n",
              "      <td>6.2</td>\n",
              "      <td>5.8</td>\n",
              "      <td>4.6</td>\n",
              "      <td>5.9</td>\n",
              "      <td>0.0</td>\n",
              "      <td>2</td>\n",
              "      <td>4</td>\n",
              "      <td>3</td>\n",
              "      <td>EXATAS</td>\n",
              "    </tr>\n",
              "    <tr>\n",
              "      <th>1</th>\n",
              "      <td>397093</td>\n",
              "      <td>Jason Jytereoman Izoimum</td>\n",
              "      <td>0</td>\n",
              "      <td>0</td>\n",
              "      <td>0</td>\n",
              "      <td>0</td>\n",
              "      <td>6.0</td>\n",
              "      <td>6.2</td>\n",
              "      <td>5.2</td>\n",
              "      <td>4.5</td>\n",
              "      <td>1.0</td>\n",
              "      <td>2</td>\n",
              "      <td>4</td>\n",
              "      <td>3</td>\n",
              "      <td>EXATAS</td>\n",
              "    </tr>\n",
              "    <tr>\n",
              "      <th>2</th>\n",
              "      <td>915288</td>\n",
              "      <td>Bartolomeu Inácio da Gama</td>\n",
              "      <td>0</td>\n",
              "      <td>0</td>\n",
              "      <td>0</td>\n",
              "      <td>0</td>\n",
              "      <td>7.3</td>\n",
              "      <td>6.7</td>\n",
              "      <td>7.1</td>\n",
              "      <td>7.2</td>\n",
              "      <td>0.0</td>\n",
              "      <td>5</td>\n",
              "      <td>0</td>\n",
              "      <td>3</td>\n",
              "      <td>HUMANAS</td>\n",
              "    </tr>\n",
              "    <tr>\n",
              "      <th>3</th>\n",
              "      <td>192652</td>\n",
              "      <td>Fernanda Guedes</td>\n",
              "      <td>1</td>\n",
              "      <td>3</td>\n",
              "      <td>1</td>\n",
              "      <td>1</td>\n",
              "      <td>0.0</td>\n",
              "      <td>0.0</td>\n",
              "      <td>0.0</td>\n",
              "      <td>0.0</td>\n",
              "      <td>1.0</td>\n",
              "      <td>4</td>\n",
              "      <td>4</td>\n",
              "      <td>4</td>\n",
              "      <td>DIFICULDADE</td>\n",
              "    </tr>\n",
              "    <tr>\n",
              "      <th>4</th>\n",
              "      <td>949491</td>\n",
              "      <td>Alessandre Borba Gomes</td>\n",
              "      <td>1</td>\n",
              "      <td>3</td>\n",
              "      <td>1</td>\n",
              "      <td>1</td>\n",
              "      <td>0.0</td>\n",
              "      <td>0.0</td>\n",
              "      <td>0.0</td>\n",
              "      <td>0.0</td>\n",
              "      <td>1.0</td>\n",
              "      <td>5</td>\n",
              "      <td>2</td>\n",
              "      <td>5</td>\n",
              "      <td>DIFICULDADE</td>\n",
              "    </tr>\n",
              "  </tbody>\n",
              "</table>\n",
              "</div>"
            ],
            "text/plain": [
              "   MATRICULA                       NOME  ...  FALTAS       PERFIL\n",
              "0     502375          Márcia Illiglener  ...       3       EXATAS\n",
              "1     397093   Jason Jytereoman Izoimum  ...       3       EXATAS\n",
              "2     915288  Bartolomeu Inácio da Gama  ...       3      HUMANAS\n",
              "3     192652            Fernanda Guedes  ...       4  DIFICULDADE\n",
              "4     949491     Alessandre Borba Gomes  ...       5  DIFICULDADE\n",
              "\n",
              "[5 rows x 15 columns]"
            ]
          },
          "metadata": {
            "tags": []
          },
          "execution_count": 25
        }
      ]
    },
    {
      "cell_type": "markdown",
      "metadata": {
        "id": "86ei0v3f1Rf1",
        "colab_type": "text"
      },
      "source": [
        "### Construção da Pipeline completa para encapsulamento no WML"
      ]
    },
    {
      "cell_type": "markdown",
      "metadata": {
        "id": "QtXZWSGb1Rf1",
        "colab_type": "text"
      },
      "source": [
        "#### Preparando transformações personalizadas para carregamento no WML"
      ]
    },
    {
      "cell_type": "markdown",
      "metadata": {
        "id": "4Dwo53hg1Rf2",
        "colab_type": "text"
      },
      "source": [
        "Na etapa anterior, foi mostrado como criar uma transformação personalizada, através da declaração de uma classe Python com os métodos ``fit`` e ``transform``.\n",
        "\n",
        "    - Código da transformação personalizada DropColumns():\n",
        "    \n",
        "    from sklearn.base import BaseEstimator, TransformerMixin\n",
        "    # All sklearn Transforms must have the `transform` and `fit` methods\n",
        "    class DropColumns(BaseEstimator, TransformerMixin):\n",
        "        def __init__(self, columns):\n",
        "            self.columns = columns\n",
        "        def fit(self, X, y=None):\n",
        "            return self\n",
        "        def transform(self, X):\n",
        "            # Primeiro realizamos a cópia do dataframe 'X' de entrada\n",
        "            data = X.copy()\n",
        "            # Retornamos um novo dataframe sem as colunas indesejadas\n",
        "            return data.drop(labels=self.columns, axis='columns')\n",
        "\n",
        "Para integrar esses tipos de transformações personalizadas nas Pipelines do Watson Machine Learning, é necessário primeiramente empacotar seu código personalizado como uma biblioteca Python. Isso pode ser feito facilmente com o uso da ferramenta *setuptools*.\n",
        "\n",
        "No seguinte repositório git: https://github.com/vnderlev/sklearn_transforms temos todos os arquivos necessários para a criação de um pacote Python, nomeado **my_custom_sklearn_transforms**.\n",
        "Esse pacote possui a seguinte estrutura de arquivos:\n",
        "\n",
        "    /my_custom_sklearn_transforms.egg-info\n",
        "        dependency_links.txt\n",
        "        not-zip-safe\n",
        "        PKG-INFO\n",
        "        SOURCES.txt\n",
        "        top_level.txt\n",
        "    /my_custom_sklearn_transforms\n",
        "        __init__.py\n",
        "        sklearn_transformers.py\n",
        "    PKG-INFO\n",
        "    README.md\n",
        "    setup.cfg\n",
        "    setup.py\n",
        "    \n",
        "O arquivo principal, que irá conter o código das nossas transformadas personalizadas, é o arquivo **/my_custom_sklearn_transforms/sklearn_transformers.py**. Se você acessá-lo no repositório, irá notar que ele contém exatamente o mesmo código declarado na primeira etapa (a classe DropColumns).\n",
        "\n",
        "Caso você tenha declarado transformações próprias (além da DropColumn fornecida), você deverá adicionar todas as classes dessas transformadas criadas por você nesse mesmo arquivo. Para tal, você deve realizar o fork desse repositório (isso pode ser feito na própria interface Web do Github, clicando no botão conforme a imagem abaixo), e adicionar suas classes personalizadas no arquivo **sklearn_transformers.py**.\n",
        "\n",
        "![alt text](https://i.imgur.com/D81E1uM.png \"forking-a-repo\")\n",
        "\n",
        "Se você somente fez o uso da transformação fornecida (DropColumns), pode ignorar essa etapa de fork, e seguir utilizando o pacote base fornecido! :)\n",
        "\n",
        "Após a preparação do seu pacote Python com as suas transformadas personalizadas, substitua o link do repositório git na célula abaixo e execute-a. Caso você não tenha preparado nenhuma nova transformada, execute a célula com o link do repositório já fornecido. \n",
        "\n",
        "<hr>\n",
        "    \n",
        "**OBSERVAÇÃO**\n",
        "\n",
        "Caso a execução da célula abaixo retorne um erro de que o repositório já existe, execute:\n",
        "\n",
        "**!rm -r -f sklearn_transforms**"
      ]
    },
    {
      "cell_type": "code",
      "metadata": {
        "id": "608taXD51Rf2",
        "colab_type": "code",
        "colab": {
          "base_uri": "https://localhost:8080/",
          "height": 34
        },
        "outputId": "2fe72046-6edf-4b2b-ea07-82953b00cf0d"
      },
      "source": [
        "# substitua o link abaixo pelo link do seu repositório git (se for o caso)\n",
        "\n",
        "# !rm -r -f sklearn_transforms\n",
        "!git clone https://github.com/anajuliabit/sklearn_transforms"
      ],
      "execution_count": 26,
      "outputs": [
        {
          "output_type": "stream",
          "text": [
            "fatal: destination path 'sklearn_transforms' already exists and is not an empty directory.\n"
          ],
          "name": "stdout"
        }
      ]
    },
    {
      "cell_type": "code",
      "metadata": {
        "id": "1isGT5Fs1Rf6",
        "colab_type": "code",
        "colab": {
          "base_uri": "https://localhost:8080/",
          "height": 85
        },
        "outputId": "389dceea-d757-4ee9-a44a-695e808c126e"
      },
      "source": [
        "!cd sklearn_transforms\n",
        "!ls -ltr"
      ],
      "execution_count": null,
      "outputs": [
        {
          "output_type": "stream",
          "text": [
            "total 1476\n",
            "drwxr-xr-x 1 root root    4096 Jul 30 16:30 sample_data\n",
            "-rw-r--r-- 1 root root 1500234 Aug 20 17:05 dataset_desafio_2.csv\n",
            "drwxr-xr-x 6 root root    4096 Aug 20 17:05 sklearn_transforms\n"
          ],
          "name": "stdout"
        }
      ]
    },
    {
      "cell_type": "markdown",
      "metadata": {
        "id": "wiw86zX51Rf_",
        "colab_type": "text"
      },
      "source": [
        "Para subir o código no WML, precisamos enviar um arquivo .zip com todo o código fonte, então iremos zipar o diretório clonado em seguida:"
      ]
    },
    {
      "cell_type": "code",
      "metadata": {
        "scrolled": false,
        "id": "mPNOX6ez1RgB",
        "colab_type": "code",
        "colab": {
          "base_uri": "https://localhost:8080/",
          "height": 986
        },
        "outputId": "9662a35a-5db8-4cbe-cf30-75964badaba2"
      },
      "source": [
        "!zip -r sklearn_transforms.zip sklearn_transforms"
      ],
      "execution_count": 27,
      "outputs": [
        {
          "output_type": "stream",
          "text": [
            "updating: sklearn_transforms/ (stored 0%)\n",
            "updating: sklearn_transforms/README.md (deflated 15%)\n",
            "updating: sklearn_transforms/.git/ (stored 0%)\n",
            "updating: sklearn_transforms/.git/objects/ (stored 0%)\n",
            "updating: sklearn_transforms/.git/objects/info/ (stored 0%)\n",
            "updating: sklearn_transforms/.git/objects/pack/ (stored 0%)\n",
            "updating: sklearn_transforms/.git/objects/pack/pack-c2a60ffc4ca14000037e35dcad24efb6909ccc40.pack (deflated 3%)\n",
            "updating: sklearn_transforms/.git/objects/pack/pack-c2a60ffc4ca14000037e35dcad24efb6909ccc40.idx (deflated 19%)\n",
            "updating: sklearn_transforms/.git/packed-refs (deflated 11%)\n",
            "updating: sklearn_transforms/.git/info/ (stored 0%)\n",
            "updating: sklearn_transforms/.git/info/exclude (deflated 28%)\n",
            "updating: sklearn_transforms/.git/hooks/ (stored 0%)\n",
            "updating: sklearn_transforms/.git/hooks/pre-commit.sample (deflated 43%)\n",
            "updating: sklearn_transforms/.git/hooks/pre-push.sample (deflated 50%)\n",
            "updating: sklearn_transforms/.git/hooks/post-update.sample (deflated 27%)\n",
            "updating: sklearn_transforms/.git/hooks/fsmonitor-watchman.sample (deflated 53%)\n",
            "updating: sklearn_transforms/.git/hooks/prepare-commit-msg.sample (deflated 50%)\n",
            "updating: sklearn_transforms/.git/hooks/applypatch-msg.sample (deflated 42%)\n",
            "updating: sklearn_transforms/.git/hooks/commit-msg.sample (deflated 44%)\n",
            "updating: sklearn_transforms/.git/hooks/pre-applypatch.sample (deflated 38%)\n",
            "updating: sklearn_transforms/.git/hooks/pre-rebase.sample (deflated 59%)\n",
            "updating: sklearn_transforms/.git/hooks/update.sample (deflated 68%)\n",
            "updating: sklearn_transforms/.git/hooks/pre-receive.sample (deflated 40%)\n",
            "updating: sklearn_transforms/.git/logs/ (stored 0%)\n",
            "updating: sklearn_transforms/.git/logs/HEAD (deflated 29%)\n",
            "updating: sklearn_transforms/.git/logs/refs/ (stored 0%)\n",
            "updating: sklearn_transforms/.git/logs/refs/heads/ (stored 0%)\n",
            "updating: sklearn_transforms/.git/logs/refs/heads/master (deflated 29%)\n",
            "updating: sklearn_transforms/.git/logs/refs/remotes/ (stored 0%)\n",
            "updating: sklearn_transforms/.git/logs/refs/remotes/origin/ (stored 0%)\n",
            "updating: sklearn_transforms/.git/logs/refs/remotes/origin/HEAD (deflated 29%)\n",
            "updating: sklearn_transforms/.git/HEAD (stored 0%)\n",
            "updating: sklearn_transforms/.git/branches/ (stored 0%)\n",
            "updating: sklearn_transforms/.git/index (deflated 51%)\n",
            "updating: sklearn_transforms/.git/description (deflated 14%)\n",
            "updating: sklearn_transforms/.git/refs/ (stored 0%)\n",
            "updating: sklearn_transforms/.git/refs/tags/ (stored 0%)\n",
            "updating: sklearn_transforms/.git/refs/heads/ (stored 0%)\n",
            "updating: sklearn_transforms/.git/refs/heads/master (stored 0%)\n",
            "updating: sklearn_transforms/.git/refs/remotes/ (stored 0%)\n",
            "updating: sklearn_transforms/.git/refs/remotes/origin/ (stored 0%)\n",
            "updating: sklearn_transforms/.git/refs/remotes/origin/HEAD (stored 0%)\n",
            "updating: sklearn_transforms/.git/config (deflated 34%)\n",
            "updating: sklearn_transforms/PKG-INFO (deflated 32%)\n",
            "updating: sklearn_transforms/dist/ (stored 0%)\n",
            "updating: sklearn_transforms/dist/my_custom_sklearn_transforms-1.0-py2.7.egg (deflated 15%)\n",
            "updating: sklearn_transforms/setup.cfg (deflated 16%)\n",
            "updating: sklearn_transforms/my_custom_sklearn_transforms.egg-info/ (stored 0%)\n",
            "updating: sklearn_transforms/my_custom_sklearn_transforms.egg-info/top_level.txt (stored 0%)\n",
            "updating: sklearn_transforms/my_custom_sklearn_transforms.egg-info/dependency_links.txt (stored 0%)\n",
            "updating: sklearn_transforms/my_custom_sklearn_transforms.egg-info/PKG-INFO (deflated 38%)\n",
            "updating: sklearn_transforms/my_custom_sklearn_transforms.egg-info/not-zip-safe (stored 0%)\n",
            "updating: sklearn_transforms/my_custom_sklearn_transforms.egg-info/SOURCES.txt (deflated 63%)\n",
            "updating: sklearn_transforms/setup.py (deflated 46%)\n",
            "updating: sklearn_transforms/my_custom_sklearn_transforms/ (stored 0%)\n",
            "updating: sklearn_transforms/my_custom_sklearn_transforms/sklearn_transformers.py (deflated 66%)\n",
            "updating: sklearn_transforms/my_custom_sklearn_transforms/__init__.py (stored 0%)\n"
          ],
          "name": "stdout"
        }
      ]
    },
    {
      "cell_type": "markdown",
      "metadata": {
        "id": "A36rQ0Jt1RgE",
        "colab_type": "text"
      },
      "source": [
        "Com o arquivo zip do nosso pacote carregado no Kernel deste notebook, podemos utilizar a ferramenta pip para instalá-lo, conforme a célula abaixo:"
      ]
    },
    {
      "cell_type": "code",
      "metadata": {
        "id": "Q8nTIHqe1RgE",
        "colab_type": "code",
        "colab": {
          "base_uri": "https://localhost:8080/",
          "height": 378
        },
        "outputId": "6e54cc73-92ea-4ee2-ebba-95ad0b858240"
      },
      "source": [
        "!pip install sklearn_transforms.zip"
      ],
      "execution_count": 28,
      "outputs": [
        {
          "output_type": "stream",
          "text": [
            "Processing ./sklearn_transforms.zip\n",
            "Requirement already satisfied: imbalanced-learn==0.4.3 in /usr/local/lib/python3.6/dist-packages (from my-custom-sklearn-transforms==1.0) (0.4.3)\n",
            "Requirement already satisfied: scikit-learn>=0.20 in /usr/local/lib/python3.6/dist-packages (from imbalanced-learn==0.4.3->my-custom-sklearn-transforms==1.0) (0.20.0)\n",
            "Requirement already satisfied: scipy>=0.13.3 in /usr/local/lib/python3.6/dist-packages (from imbalanced-learn==0.4.3->my-custom-sklearn-transforms==1.0) (1.4.1)\n",
            "Requirement already satisfied: numpy>=1.8.2 in /usr/local/lib/python3.6/dist-packages (from imbalanced-learn==0.4.3->my-custom-sklearn-transforms==1.0) (1.18.5)\n",
            "Building wheels for collected packages: my-custom-sklearn-transforms\n",
            "  Building wheel for my-custom-sklearn-transforms (setup.py) ... \u001b[?25l\u001b[?25hdone\n",
            "  Created wheel for my-custom-sklearn-transforms: filename=my_custom_sklearn_transforms-1.0-cp36-none-any.whl size=2205 sha256=797848b956103b28d3d5908e22d889219ba8041923f403506ce39d0b5e55b580\n",
            "  Stored in directory: /tmp/pip-ephem-wheel-cache-jrmph8rn/wheels/c4/57/de/7704133573948922952f7658fc7094c1d36d9b79a4224af702\n",
            "Successfully built my-custom-sklearn-transforms\n",
            "Installing collected packages: my-custom-sklearn-transforms\n",
            "  Found existing installation: my-custom-sklearn-transforms 1.0\n",
            "    Uninstalling my-custom-sklearn-transforms-1.0:\n",
            "      Successfully uninstalled my-custom-sklearn-transforms-1.0\n",
            "Successfully installed my-custom-sklearn-transforms-1.0\n"
          ],
          "name": "stdout"
        },
        {
          "output_type": "display_data",
          "data": {
            "application/vnd.colab-display-data+json": {
              "pip_warning": {
                "packages": [
                  "my_custom_sklearn_transforms"
                ]
              }
            }
          },
          "metadata": {
            "tags": []
          }
        }
      ]
    },
    {
      "cell_type": "markdown",
      "metadata": {
        "id": "vvTj6cNV1RgH",
        "colab_type": "text"
      },
      "source": [
        "Podemos agora realizar a importação do nosso pacote personalizado em nosso notabook!\n",
        "\n",
        "Iremos importar a transformação DropColumns. Se você possui outras transformações personalizadas, não se esqueça de importá-las!"
      ]
    },
    {
      "cell_type": "code",
      "metadata": {
        "id": "bTkCgDfz1RgI",
        "colab_type": "code",
        "colab": {}
      },
      "source": [
        "from my_custom_sklearn_transforms.sklearn_transformers import DropColumns\n",
        "from my_custom_sklearn_transforms.sklearn_transformers import SmoteResample"
      ],
      "execution_count": 29,
      "outputs": []
    },
    {
      "cell_type": "markdown",
      "metadata": {
        "id": "f4FeJS2L1RgK",
        "colab_type": "text"
      },
      "source": [
        "#### Declarando a Pipeline\n",
        "\n",
        "Após a importação das transformações personalizadas como um pacote Python, podemos partir para a declaração da nossa Pipeline.\n",
        "\n",
        "O processo é bem semelhante ao realizado na primeira etapa, porém com algumas diferenças importantes, então preste bem atenção!\n",
        "\n",
        "A Pipeline exemplo possui três estágios: \n",
        "\n",
        "    - remover a coluna \"NOME\"\n",
        "    - imputar \"zeros\" em todos os valores faltantes\n",
        "    - inserir os dados pré-processados como entrada em um modelo treinado\n",
        "    \n",
        "Relembrando, a entrada desta Pipeline será o conjunto cru de dados fornecido exceto a coluna \"LABELS\" (variável-alvo a ser determinada pelo modelo).\n",
        "\n",
        "Teremos então 17 valores de entrada **na PIPELINE** (no modelo serão 16 entradas, pois a coluna NAME será removida no primeiro estágio após a transformação DropColumn).\n",
        "\n",
        "    MATRICULA       - número de quatro algarismos único para cada estudante\n",
        "    NOME            - nome completo do estudante\n",
        "    FALTAS_DE       - número de faltas na disciplina de ``Direito Empresarial``\n",
        "    FALTAS_EM       - número de faltas na disciplina de ``Empreendedorismo``\n",
        "    FALTAS_MF       - número de faltas na disciplina de ``Matemática Financeira``\n",
        "    MEDIA_DE        - média simples das notas do aluno na disciplina de ``Direito Empresarial`` (0-10)\n",
        "    MEDIA_EM        - média simples das notas do aluno na disciplina de ``Empreendedorismo`` (0-10)\n",
        "    MEDIA_MF        - média simples das notas do aluno na disciplina de ``Matemática Financeira`` (0-10)\n",
        "    HRS_ESTUDO_DE   - horas de estudo particular na disciplina de ``Direito Empresarial``\n",
        "    HRS_ESTUDO_EM   - horas de estudo particular na disciplina de ``Empreendedorismo``\n",
        "    HRS_ESTUDO_MF   - horas de estudo particular na disciplina de ``Matemática Financeira``\n",
        "    REPROVACOES_DE  - número de reprovações na disciplina de ``Direito Empresarial``\n",
        "    REPROVACOES_EM  - número de reprovações na disciplina de ``Empreendedorismo``\n",
        "    REPROVACOES_MF  - número de reprovações na disciplina de ``Matemática Financeira``\n",
        "    LIVROS_TEXTO    - quantidade de livros e textos acessados pelo aluno no sistema da universidade\n",
        "    AULAS_AO_VIVO   - horas de aulas ao vivo presenciadas pelo aluno (total em todas as disciplinas)\n",
        "    EXERCICIOS      - número de exercícios realizados pelo estudante (total em todas as disciplinas) no sistema da universidade\n",
        "\n",
        "A saída da Pipeline será um valor estimado para a coluna \"LABELS\"."
      ]
    },
    {
      "cell_type": "code",
      "metadata": {
        "id": "odVDSu4F1RgL",
        "colab_type": "code",
        "colab": {}
      },
      "source": [
        "# Criação de uma Transform personalizada ``DropColumns``\n",
        "\n",
        "rm_columns = DropColumns(\n",
        "    columns=[\"NOME\"]\n",
        ")"
      ],
      "execution_count": 30,
      "outputs": []
    },
    {
      "cell_type": "code",
      "metadata": {
        "id": "uP4uIS-s1RgO",
        "colab_type": "code",
        "colab": {}
      },
      "source": [
        "# Criação de um objeto ``SimpleImputer``\n",
        "\n",
        "si = SimpleImputer(\n",
        "    missing_values=np.nan,  # os valores faltantes são do tipo ``np.nan`` (padrão Pandas)\n",
        "    strategy='constant',  # a estratégia escolhida é a alteração do valor faltante por uma constante\n",
        "    fill_value=-1,  # a constante que será usada para preenchimento dos valores faltantes é um int64=0.\n",
        "    verbose=0,\n",
        "    copy=True\n",
        ")"
      ],
      "execution_count": 31,
      "outputs": []
    },
    {
      "cell_type": "code",
      "metadata": {
        "id": "tMyK5ERA1RgS",
        "colab_type": "code",
        "colab": {}
      },
      "source": [
        "df = df_data_2.replace(np.nan, -1)"
      ],
      "execution_count": 32,
      "outputs": []
    },
    {
      "cell_type": "code",
      "metadata": {
        "id": "gFOsVt_i1RgU",
        "colab_type": "code",
        "colab": {
          "base_uri": "https://localhost:8080/",
          "height": 71
        },
        "outputId": "b6e3a71f-481c-461a-bbb7-4db698a4a5d7"
      },
      "source": [
        "# Definição das colunas que serão features (nota-se que a coluna NOME não está presente)\n",
        "features = [\n",
        "    'MATRICULA', 'REPROVACOES_DE', 'REPROVACOES_EM', \"REPROVACOES_MF\", \"REPROVACOES_GO\",\n",
        "    \"NOTA_DE\", \"NOTA_EM\", \"NOTA_MF\", \"NOTA_GO\",\n",
        "    \"INGLES\", \"H_AULA_PRES\", \"TAREFAS_ONLINE\", \"FALTAS\", \n",
        "]\n",
        "\n",
        "\n",
        "# Definição da variável-alvo\n",
        "target = [\"PERFIL\"]\n",
        "\n",
        "# Preparação dos argumentos para os métodos da biblioteca scikit-learn\n",
        "X = df[features]\n",
        "y = df[target]\n",
        "\n",
        "X_balanced,y_balanced = SmoteResample().fit(X,y)\n",
        "\n",
        "X.insert(1, 'NOME', 'Ana')\n",
        "X_balanced.insert(1, 'NOME', 'Ana')\n",
        "X_balanced.MATRICULA = X_balanced.MATRICULA.astype(int)"
      ],
      "execution_count": 54,
      "outputs": [
        {
          "output_type": "stream",
          "text": [
            "/usr/local/lib/python3.6/dist-packages/sklearn/utils/validation.py:752: DataConversionWarning: A column-vector y was passed when a 1d array was expected. Please change the shape of y to (n_samples, ), for example using ravel().\n",
            "  y = column_or_1d(y, warn=True)\n"
          ],
          "name": "stderr"
        }
      ]
    },
    {
      "cell_type": "code",
      "metadata": {
        "id": "xezX2tTa4LBu",
        "colab_type": "code",
        "colab": {
          "base_uri": "https://localhost:8080/",
          "height": 224
        },
        "outputId": "3729a329-b17e-487c-9dc8-b0844f6e7375"
      },
      "source": [
        "X_balanced.head()"
      ],
      "execution_count": 55,
      "outputs": [
        {
          "output_type": "execute_result",
          "data": {
            "text/html": [
              "<div>\n",
              "<style scoped>\n",
              "    .dataframe tbody tr th:only-of-type {\n",
              "        vertical-align: middle;\n",
              "    }\n",
              "\n",
              "    .dataframe tbody tr th {\n",
              "        vertical-align: top;\n",
              "    }\n",
              "\n",
              "    .dataframe thead th {\n",
              "        text-align: right;\n",
              "    }\n",
              "</style>\n",
              "<table border=\"1\" class=\"dataframe\">\n",
              "  <thead>\n",
              "    <tr style=\"text-align: right;\">\n",
              "      <th></th>\n",
              "      <th>MATRICULA</th>\n",
              "      <th>NOME</th>\n",
              "      <th>REPROVACOES_DE</th>\n",
              "      <th>REPROVACOES_EM</th>\n",
              "      <th>REPROVACOES_MF</th>\n",
              "      <th>REPROVACOES_GO</th>\n",
              "      <th>NOTA_DE</th>\n",
              "      <th>NOTA_EM</th>\n",
              "      <th>NOTA_MF</th>\n",
              "      <th>NOTA_GO</th>\n",
              "      <th>INGLES</th>\n",
              "      <th>H_AULA_PRES</th>\n",
              "      <th>TAREFAS_ONLINE</th>\n",
              "      <th>FALTAS</th>\n",
              "    </tr>\n",
              "  </thead>\n",
              "  <tbody>\n",
              "    <tr>\n",
              "      <th>0</th>\n",
              "      <td>502375</td>\n",
              "      <td>Ana</td>\n",
              "      <td>0.0</td>\n",
              "      <td>0.0</td>\n",
              "      <td>0.0</td>\n",
              "      <td>0.0</td>\n",
              "      <td>6.2</td>\n",
              "      <td>5.8</td>\n",
              "      <td>4.6</td>\n",
              "      <td>5.9</td>\n",
              "      <td>0.0</td>\n",
              "      <td>2.0</td>\n",
              "      <td>4.0</td>\n",
              "      <td>3.0</td>\n",
              "    </tr>\n",
              "    <tr>\n",
              "      <th>1</th>\n",
              "      <td>397093</td>\n",
              "      <td>Ana</td>\n",
              "      <td>0.0</td>\n",
              "      <td>0.0</td>\n",
              "      <td>0.0</td>\n",
              "      <td>0.0</td>\n",
              "      <td>6.0</td>\n",
              "      <td>6.2</td>\n",
              "      <td>5.2</td>\n",
              "      <td>4.5</td>\n",
              "      <td>1.0</td>\n",
              "      <td>2.0</td>\n",
              "      <td>4.0</td>\n",
              "      <td>3.0</td>\n",
              "    </tr>\n",
              "    <tr>\n",
              "      <th>2</th>\n",
              "      <td>915288</td>\n",
              "      <td>Ana</td>\n",
              "      <td>0.0</td>\n",
              "      <td>0.0</td>\n",
              "      <td>0.0</td>\n",
              "      <td>0.0</td>\n",
              "      <td>7.3</td>\n",
              "      <td>6.7</td>\n",
              "      <td>7.1</td>\n",
              "      <td>7.2</td>\n",
              "      <td>0.0</td>\n",
              "      <td>5.0</td>\n",
              "      <td>0.0</td>\n",
              "      <td>3.0</td>\n",
              "    </tr>\n",
              "    <tr>\n",
              "      <th>3</th>\n",
              "      <td>192652</td>\n",
              "      <td>Ana</td>\n",
              "      <td>1.0</td>\n",
              "      <td>3.0</td>\n",
              "      <td>1.0</td>\n",
              "      <td>1.0</td>\n",
              "      <td>0.0</td>\n",
              "      <td>0.0</td>\n",
              "      <td>0.0</td>\n",
              "      <td>0.0</td>\n",
              "      <td>1.0</td>\n",
              "      <td>4.0</td>\n",
              "      <td>4.0</td>\n",
              "      <td>4.0</td>\n",
              "    </tr>\n",
              "    <tr>\n",
              "      <th>4</th>\n",
              "      <td>949491</td>\n",
              "      <td>Ana</td>\n",
              "      <td>1.0</td>\n",
              "      <td>3.0</td>\n",
              "      <td>1.0</td>\n",
              "      <td>1.0</td>\n",
              "      <td>0.0</td>\n",
              "      <td>0.0</td>\n",
              "      <td>0.0</td>\n",
              "      <td>0.0</td>\n",
              "      <td>1.0</td>\n",
              "      <td>5.0</td>\n",
              "      <td>2.0</td>\n",
              "      <td>5.0</td>\n",
              "    </tr>\n",
              "  </tbody>\n",
              "</table>\n",
              "</div>"
            ],
            "text/plain": [
              "   MATRICULA NOME  REPROVACOES_DE  ...  H_AULA_PRES  TAREFAS_ONLINE  FALTAS\n",
              "0     502375  Ana             0.0  ...          2.0             4.0     3.0\n",
              "1     397093  Ana             0.0  ...          2.0             4.0     3.0\n",
              "2     915288  Ana             0.0  ...          5.0             0.0     3.0\n",
              "3     192652  Ana             1.0  ...          4.0             4.0     4.0\n",
              "4     949491  Ana             1.0  ...          5.0             2.0     5.0\n",
              "\n",
              "[5 rows x 14 columns]"
            ]
          },
          "metadata": {
            "tags": []
          },
          "execution_count": 55
        }
      ]
    },
    {
      "cell_type": "markdown",
      "metadata": {
        "id": "D0-KZu8_1RgW",
        "colab_type": "text"
      },
      "source": [
        "**ATENÇÃO!!**\n",
        "\n",
        "A célula acima, embora muito parecida com a definição de features na primeira etapa deste desafio, possui uma grande diferença!\n",
        "\n",
        "Nela está presente a coluna \"NOME\" como uma feature! Isso ocorre pois neste caso essas são as entradas da *PIPELINE*, e não do modelo."
      ]
    },
    {
      "cell_type": "code",
      "metadata": {
        "id": "5pKU-6qz1RgX",
        "colab_type": "code",
        "colab": {}
      },
      "source": [
        "# Separação dos dados em um conjunto de treino e um conjunto de teste\n",
        "X_train, X_test, y_train, y_test = train_test_split(X_balanced, y_balanced)\n",
        "\n",
        "# Separação dos dados sem balanceamento\n",
        "X_treino, X_teste, y_treino, y_teste = train_test_split(X, y)"
      ],
      "execution_count": 47,
      "outputs": []
    },
    {
      "cell_type": "markdown",
      "metadata": {
        "id": "Je4LgxVK1Rga",
        "colab_type": "text"
      },
      "source": [
        "Na célula abaixo é realizada a declaração de um objeto **Pipeline** do scikit-learn, onde é declarado o parâmetro *steps*, que nada mais é do que uma lista com as etapas da nossa pipeline:\n",
        "\n",
        "    'remove_cols'     - transformação personalizada DropColumns\n",
        "    'imputer'         - transformação embutida do scikit-learn para imputação de valores faltantes\n",
        "    'set_index'       - seta o index\n",
        "    'dtc'             - um classificador via árvore de decisão\n",
        "    \n",
        "Note que passamos como passos as transformadas instanciadas anteriormente, sob nome `rm_columns` e `si`."
      ]
    },
    {
      "cell_type": "code",
      "metadata": {
        "id": "R_96a8su1Rgb",
        "colab_type": "code",
        "colab": {}
      },
      "source": [
        "# Criação da nossa pipeline para armazenamento no Watson Machine Learning:\n",
        "my_pipeline = Pipeline(\n",
        "    steps=[\n",
        "        ('remove_cols', rm_columns),\n",
        "        ('imputer', si),\n",
        "        ('dtc', ExtraTreesClassifier(random_state=42)),\n",
        "    ]\n",
        ")"
      ],
      "execution_count": 48,
      "outputs": []
    },
    {
      "cell_type": "markdown",
      "metadata": {
        "id": "92zDfI711Rgd",
        "colab_type": "text"
      },
      "source": [
        "Em seguida iremos executar o método `fit()` da Pipeline, realizando o pré-processamento e o treinamento do modelo de uma só vez."
      ]
    },
    {
      "cell_type": "code",
      "metadata": {
        "id": "FDZNa0Zi1Rge",
        "colab_type": "code",
        "colab": {
          "base_uri": "https://localhost:8080/",
          "height": 156
        },
        "outputId": "f0f4405e-74a7-4459-b6de-d21dde5e1ca4"
      },
      "source": [
        "# Inicialização da Pipeline (pré-processamento e realização do treinamento do modelo)\n",
        "my_pipeline.fit(X_train, y_train)"
      ],
      "execution_count": 49,
      "outputs": [
        {
          "output_type": "stream",
          "text": [
            "/usr/local/lib/python3.6/dist-packages/sklearn/ensemble/forest.py:248: FutureWarning: The default value of n_estimators will change from 10 in version 0.20 to 100 in 0.22.\n",
            "  \"10 in version 0.20 to 100 in 0.22.\", FutureWarning)\n"
          ],
          "name": "stderr"
        },
        {
          "output_type": "execute_result",
          "data": {
            "text/plain": [
              "Pipeline(memory=None,\n",
              "     steps=[('remove_cols', DropColumns(columns=['NOME'])), ('imputer', SimpleImputer(copy=True, fill_value=-1, missing_values=nan,\n",
              "       strategy='constant', verbose=0)), ('dtc', ExtraTreesClassifier(bootstrap=False, class_weight=None, criterion='gini',\n",
              "           max_depth=None, max_features='auto', m...imators=10, n_jobs=None,\n",
              "           oob_score=False, random_state=42, verbose=0, warm_start=False))])"
            ]
          },
          "metadata": {
            "tags": []
          },
          "execution_count": 49
        }
      ]
    },
    {
      "cell_type": "code",
      "metadata": {
        "id": "Sk2xuLgl2DWA",
        "colab_type": "code",
        "colab": {}
      },
      "source": [
        "y_pred = my_pipeline.predict(X_teste)"
      ],
      "execution_count": 50,
      "outputs": []
    },
    {
      "cell_type": "code",
      "metadata": {
        "id": "xJ8C6Ses2Sgj",
        "colab_type": "code",
        "colab": {
          "base_uri": "https://localhost:8080/",
          "height": 34
        },
        "outputId": "7a2581e4-08db-47b5-aa3c-817312e2a43c"
      },
      "source": [
        "\n",
        "from sklearn.metrics import accuracy_score\n",
        "\n",
        "# Acurácia alcançada pela árvore de decisão\n",
        "print(\"Acurácia: {}%\".format(100*round(accuracy_score(y_teste, y_pred), 2)))"
      ],
      "execution_count": 51,
      "outputs": [
        {
          "output_type": "stream",
          "text": [
            "Acurácia: 95.0%\n"
          ],
          "name": "stdout"
        }
      ]
    },
    {
      "cell_type": "markdown",
      "metadata": {
        "id": "q-uBxcmM1Rgi",
        "colab_type": "text"
      },
      "source": [
        "Agora que temos uma pipeline completa, com etapas de pré-processamento configuradas e também um modelo por árvore de decisão já treinado, podemos realizar a integração com o Watson Machine Learning!"
      ]
    },
    {
      "cell_type": "markdown",
      "metadata": {
        "id": "Dc_pYNxW1Rgj",
        "colab_type": "text"
      },
      "source": [
        "### Encapsulando uma Pipeline personalizada no Watson Machine Learning"
      ]
    },
    {
      "cell_type": "markdown",
      "metadata": {
        "id": "Su5MXZnN1Rgj",
        "colab_type": "text"
      },
      "source": [
        "#### Estabelecendo conexão entre o cliente Python do WML e a sua instância do serviço na nuvem"
      ]
    },
    {
      "cell_type": "code",
      "metadata": {
        "id": "00wLlVGc1Rgk",
        "colab_type": "code",
        "colab": {},
        "outputId": "c86a8da4-b888-408c-8b68-cdde08ec4c02"
      },
      "source": [
        "# Biblioteca Python com implementação de um cliente HTTP para a API do WML\n",
        "from watson_machine_learning_client import WatsonMachineLearningAPIClient"
      ],
      "execution_count": null,
      "outputs": [
        {
          "output_type": "stream",
          "text": [
            "2020-08-18 19:12:27,661 - watson_machine_learning_client.wml_client_error - WARNING - Failure during creation of library.\n",
            "Reason: (400)\n",
            "Reason: Bad Request\n",
            "HTTP response headers: HTTPHeaderDict({'Server': 'nginx', 'Date': 'Tue, 18 Aug 2020 19:12:27 GMT', 'Content-Type': 'application/json', 'Content-Length': '214', 'Connection': 'keep-alive', 'X-Frame-Options': 'DENY', 'X-Content-Type-Options': 'nosniff', 'X-XSS-Protection': '1', 'Pragma': 'no-cache', 'Cache-Control': 'private, no-cache, no-store, must-revalidate', 'X-WML-User-Client': 'PythonClient', 'x-global-transaction-id': '7wxe4bd9fb85484554lcmal3t7t4c9chbac1', 'Strict-Transport-Security': 'max-age=31536000; includeSubDomains'})\n",
            "HTTP response body: {\"trace\":\"-yfu7eisl65xg\",\"errors\":[{\"code\":\"library_already_exists\",\"message\":\"A library already exists that matches with the provided input - name, version and platform. Provide unique values for these fields.\"}]}\n",
            "\n",
            "2020-08-18 19:12:56,838 - watson_machine_learning_client.wml_client_error - WARNING - Deployment creation failed. Error: 402. {\"trace\":\"a42c4a609ce604f58b243ea8201306bc\",\"errors\":[{\"code\":\"deployments_plan_limit_reached\",\"message\":\"Current plan 'lite' only allows 5 deployments\"}]}\n"
          ],
          "name": "stderr"
        }
      ]
    },
    {
      "cell_type": "markdown",
      "metadata": {
        "id": "OM_wEHDj1Rgm",
        "colab_type": "text"
      },
      "source": [
        "As próximas células irão realizar o deploy da pipeline declarada neste notebook no WML. Só prossiga se você já está satisfeito com seu modelo e acha que já é a hora de fazer o deploy da sua solução.\n",
        "\n",
        "Cole as credenciais de sua instância do Watson Machine Learning na variável na célula abaixo.\n",
        "\n",
        "É importante que a variável que contém os valores tenha o nome de ``wml_credentials`` para que as próximas células deste notebook executem corretamente."
      ]
    },
    {
      "cell_type": "code",
      "metadata": {
        "id": "0UyaSK9G1Rgn",
        "colab_type": "code",
        "colab": {}
      },
      "source": [
        "wml_credentials = {\n",
        "  \"apikey\": \"x-T5o0RXmA3Ep1UtLG4jz7u6wcp_i0Ms_2wKvQVS6UWz\",\n",
        "  \"iam_apikey_description\": \"Auto-generated for key a0e0989a-2f76-4d4a-8882-499d35091f7c\",\n",
        "  \"iam_apikey_name\": \"Credenciais de serviço\",\n",
        "  \"iam_role_crn\": \"crn:v1:bluemix:public:iam::::serviceRole:Writer\",\n",
        "  \"iam_serviceid_crn\": \"crn:v1:bluemix:public:iam-identity::a/b887b91a23804c7d8a27bba9a139998d::serviceid:ServiceId-c843d73b-73b5-4b31-ab68-0b03f1780cfd\",\n",
        "  \"instance_id\": \"9d01aaf1-612f-457e-9df3-c123eadbd02d\",\n",
        "  \"url\": \"https://eu-de.ml.cloud.ibm.com\"\n",
        "}"
      ],
      "execution_count": null,
      "outputs": []
    },
    {
      "cell_type": "code",
      "metadata": {
        "id": "smCegswV1Rgq",
        "colab_type": "code",
        "colab": {}
      },
      "source": [
        "# Instanciando um objeto cliente do Watson Machine Learning a partir das credenciais fornecidas\n",
        "\n",
        "clientWML = WatsonMachineLearningAPIClient(wml_credentials)"
      ],
      "execution_count": null,
      "outputs": []
    },
    {
      "cell_type": "code",
      "metadata": {
        "id": "-uf_hLjh1Rgs",
        "colab_type": "code",
        "colab": {},
        "outputId": "2ad97f37-701d-4aef-cd03-02ae992295b6"
      },
      "source": [
        "# Extraindo detalhes da sua instância do Watson Machine Learning\n",
        "\n",
        "instance_details = clientWML.service_instance.get_details()\n",
        "print(json.dumps(instance_details, indent=4))"
      ],
      "execution_count": null,
      "outputs": [
        {
          "output_type": "stream",
          "text": [
            "{\n",
            "    \"entity\": {\n",
            "        \"source\": \"Bluemix\",\n",
            "        \"published_models\": {\n",
            "            \"url\": \"https://eu-de.ml.cloud.ibm.com/v3/wml_instances/9d01aaf1-612f-457e-9df3-c123eadbd02d/published_models\"\n",
            "        },\n",
            "        \"usage\": {\n",
            "            \"capacity_units\": {\n",
            "                \"current\": 0,\n",
            "                \"limit\": 180000000\n",
            "            },\n",
            "            \"computation_time\": {\n",
            "                \"current\": 0,\n",
            "                \"limit\": 180000\n",
            "            },\n",
            "            \"deployment_count\": {\n",
            "                \"current\": 4,\n",
            "                \"limit\": 5\n",
            "            },\n",
            "            \"expiration_date\": \"2020-09-01T00:00:00.000Z\",\n",
            "            \"gpu_count_k80\": {\n",
            "                \"current\": 0,\n",
            "                \"limit\": 8\n",
            "            },\n",
            "            \"gpu_count_p100\": {\n",
            "                \"current\": 0,\n",
            "                \"limit\": 0\n",
            "            },\n",
            "            \"gpu_count_v100\": {\n",
            "                \"current\": 0,\n",
            "                \"limit\": 0\n",
            "            },\n",
            "            \"model_count\": {\n",
            "                \"current\": 3,\n",
            "                \"limit\": 200\n",
            "            },\n",
            "            \"prediction_count\": {\n",
            "                \"current\": 0,\n",
            "                \"limit\": 5000\n",
            "            }\n",
            "        },\n",
            "        \"tags\": null,\n",
            "        \"plan_id\": \"3f6acf43-ede8-413a-ac69-f8af3bb0cbfe\",\n",
            "        \"service_endpoints\": \"public\",\n",
            "        \"status\": \"Active\",\n",
            "        \"organization_guid\": \"N/A\",\n",
            "        \"region\": \"eu-de\",\n",
            "        \"account\": {\n",
            "            \"id\": \"b887b91a23804c7d8a27bba9a139998d\",\n",
            "            \"name\": \"Ana Julia Bittencourt Foga\\u00e7a's Account\",\n",
            "            \"type\": \"STANDARD\"\n",
            "        },\n",
            "        \"owner\": {\n",
            "            \"beta_user\": false,\n",
            "            \"country_code\": \"BRA\",\n",
            "            \"email\": \"anajbtf@gmail.com\",\n",
            "            \"ibm_id\": \"550008EXEV\",\n",
            "            \"user_id\": \"f485ba12-51eb-462f-a8e6-58f9f2e168d9\"\n",
            "        },\n",
            "        \"deployments\": {\n",
            "            \"url\": \"https://eu-de.ml.cloud.ibm.com/v3/wml_instances/9d01aaf1-612f-457e-9df3-c123eadbd02d/deployments\"\n",
            "        },\n",
            "        \"space_guid\": \"N/A\",\n",
            "        \"plan\": \"lite\"\n",
            "    },\n",
            "    \"metadata\": {\n",
            "        \"created_at\": \"2020-08-17T15:17:57.638Z\",\n",
            "        \"modified_at\": \"2020-08-17T15:17:57.638Z\",\n",
            "        \"guid\": \"9d01aaf1-612f-457e-9df3-c123eadbd02d\",\n",
            "        \"url\": \"https://eu-de.ml.cloud.ibm.com/v3/wml_instances/9d01aaf1-612f-457e-9df3-c123eadbd02d\"\n",
            "    }\n",
            "}\n"
          ],
          "name": "stdout"
        }
      ]
    },
    {
      "cell_type": "markdown",
      "metadata": {
        "id": "_nVW1x6B1Rgv",
        "colab_type": "text"
      },
      "source": [
        "**ATENÇÃO!!**\n",
        "\n",
        "Fique atento para os limites de consumo de sua instância do Watson Machine Learning!\n",
        "\n",
        "Caso você expire a camada grátis, não será possível avaliar seu modelo (pois é necessária a realização de algumas chamadas de API que consomem predições!)"
      ]
    },
    {
      "cell_type": "markdown",
      "metadata": {
        "id": "CY7_V2qX1Rgv",
        "colab_type": "text"
      },
      "source": [
        "#### Listando todos os artefatos armazenados no seu WML"
      ]
    },
    {
      "cell_type": "markdown",
      "metadata": {
        "id": "raeEnQfE1Rgw",
        "colab_type": "text"
      },
      "source": [
        "Para listar todos os artefatos armazenados em seu Watson Machine Learning, você pode usar a seguinte função:\n",
        "\n",
        "    clientWML.repository.list()"
      ]
    },
    {
      "cell_type": "code",
      "metadata": {
        "id": "--vwCWa51Rgw",
        "colab_type": "code",
        "colab": {},
        "outputId": "06d1daa8-ba4b-4157-a1cb-607a8fefef65"
      },
      "source": [
        "# Listando todos os artefatos atualmente armazenados na sua instância do WML\n",
        "\n",
        "clientWML.repository.list()"
      ],
      "execution_count": null,
      "outputs": [
        {
          "output_type": "stream",
          "text": [
            "------------------------------------  -------------------------------  ------------------------  -----------------  -----------------\n",
            "GUID                                  NAME                             CREATED                   FRAMEWORK          TYPE\n",
            "864eb045-9759-44ee-96d0-80b8690393b0  desafio-2-mbtc2020-pipeline-1    2020-08-17T19:20:18.420Z  scikit-learn-0.20  model\n",
            "48332616-58de-4a38-a08f-ec2223300809  desafio-2-mbtc2020-pipeline-1    2020-08-17T18:18:01.656Z  scikit-learn-0.20  model\n",
            "ffeca093-e781-4e53-a523-e245c908aac0  desafio-2-mbtc2020-pipeline-1    2020-08-17T18:09:25.454Z  scikit-learn-0.20  model\n",
            "ea0c0cd9-cc8a-4b42-b2d3-aeae212224f9  desafio-2-mbtc2020-pipeline-1    2020-08-17T17:57:47.049Z  scikit-learn-0.20  model\n",
            "747f8ccf-2486-4b2f-bbce-35191b629eae  desafio-2-mbtc2020-deployment-1  2020-08-17T19:20:31.733Z  scikit-learn-0.20  online deployment\n",
            "809e7a70-bca1-4e34-b8c5-f1380872b93a  desafio-2-mbtc2020-deployment-1  2020-08-17T18:18:15.877Z  scikit-learn-0.20  online deployment\n",
            "269d0788-44b8-4a82-97d1-7ca16071cbd4  desafio-2-mbtc2020-deployment-1  2020-08-17T18:16:13.851Z  scikit-learn-0.20  online deployment\n",
            "7d3ea054-e2d6-478b-a566-2855d0b18e8c  desafio-2-mbtc2020-deployment-1  2020-08-17T18:09:39.371Z  scikit-learn-0.20  online deployment\n",
            "86368bbf-f773-4464-8145-99b805511d79  desafio-2-mbtc2020-deployment-1  2020-08-17T17:57:59.937Z  scikit-learn-0.20  online deployment\n",
            "05b32281-637d-419e-a9db-bc1ed6c0e90d  my_custom_sklearn_transform_7    2020-08-17T19:20:06.412Z  -                  python library\n",
            "6fde8d43-bb3b-457f-ae2d-e72495b1e5de  my_custom_sklearn_transform_6    2020-08-17T18:17:06.533Z  -                  python library\n",
            "0acba285-f97c-4257-ab20-5af5b153b32a  my_custom_sklearn_transform_5    2020-08-17T18:09:11.540Z  -                  python library\n",
            "0b01d6b0-7f89-41c1-a316-5ec332acc713  my_custom_sklearn_transform_4    2020-08-17T17:57:18.049Z  -                  python library\n",
            "886916f0-7d55-46e8-ba3c-cf4c44236dfc  my_custom_sklearn_transform_3    2020-08-17T17:08:11.509Z  -                  python library\n",
            "b6b17cda-b177-4bb8-91c6-d9a365be9751  my_custom_sklearn_transform_2    2020-08-17T16:56:46.202Z  -                  python library\n",
            "2331fb47-89c5-4fc5-b62b-7a44bded95dd  my_custom_sklearn_transform_1    2020-08-17T15:19:15.559Z  -                  python library\n",
            "8b7ff3d9-c023-4f97-9bd9-7e35a7115c31  my_custom_wml_runtime_7          2020-08-17T19:20:12.797Z  -                  python runtime\n",
            "9847452a-e5e5-4a6d-9bcc-83c3aee92a8b  my_custom_wml_runtime_4          2020-08-17T18:17:08.976Z  -                  python runtime\n",
            "00f0c2b8-84c0-414e-99d0-f0b52976ecf0  my_custom_wml_runtime_4          2020-08-17T18:09:13.809Z  -                  python runtime\n",
            "b5363d75-80a8-4acb-b67d-aebebe2ff6a5  my_custom_wml_runtime_4          2020-08-17T17:57:28.704Z  -                  python runtime\n",
            "1d95e568-aec4-47cd-90c5-17819b1165e4  my_custom_wml_runtime_3          2020-08-17T17:08:18.758Z  -                  python runtime\n",
            "acd4e259-eaeb-4aa6-a3a2-037a8e30ba7c  my_custom_wml_runtime_2          2020-08-17T17:05:19.285Z  -                  python runtime\n",
            "066c923b-27e4-46dc-9031-b53e0957c176  my_custom_wml_runtime_1          2020-08-17T17:02:41.846Z  -                  python runtime\n",
            "c58bac89-61ed-4cdf-8a94-2a0025bd33d7  my_custom_wml_runtime_1          2020-08-17T17:01:18.942Z  -                  python runtime\n",
            "e4514e9a-16d4-4f1f-ac02-0687bd9ee3cd  my_custom_wml_runtime_1          2020-08-17T16:56:51.469Z  -                  python runtime\n",
            "9e4e7774-4db9-48dd-87f7-9750b35357c2  my_custom_wml_runtime_1          2020-08-17T15:19:22.087Z  -                  python runtime\n",
            "------------------------------------  -------------------------------  ------------------------  -----------------  -----------------\n"
          ],
          "name": "stdout"
        }
      ]
    },
    {
      "cell_type": "markdown",
      "metadata": {
        "id": "nbXwjsOo1Rg0",
        "colab_type": "text"
      },
      "source": [
        "No plano LITE do Watson Machine Learning só é permitido o deploy de um único modelo por vez. Se for o caso de você já possuir um modelo online na sua instância, você pode apagá-lo utilizando o método clientWML.repository.delete():\n",
        "\n",
        "    artifact_guid = \"359c8951-d2fe-4063-8706-cc06b32d5e0d\"\n",
        "    clientWML.repository.delete(artifact_guid)"
      ]
    },
    {
      "cell_type": "markdown",
      "metadata": {
        "id": "V1Pf2xQU1Rg0",
        "colab_type": "text"
      },
      "source": [
        "#### Criando uma nova definição de pacote Python personalizado no WML"
      ]
    },
    {
      "cell_type": "markdown",
      "metadata": {
        "id": "rq9L7AZm1Rg3",
        "colab_type": "text"
      },
      "source": [
        "O primeiro passo para realizar seu deploy é armazenar o código das transformações personalizadas criadas por você.\n",
        "\n",
        "Para essa etapa precisamos apenas do arquivo .zip do pacote criado (que já possuimos carregado no Kernel!)"
      ]
    },
    {
      "cell_type": "code",
      "metadata": {
        "id": "2lLqP8Bq1Rg4",
        "colab_type": "code",
        "colab": {},
        "outputId": "ae76dbc7-e4dd-4ecb-88ed-11cad935040d"
      },
      "source": [
        "# Definição de metadados do nosso pacote com as Transforms personalizadas\n",
        "pkg_meta = {\n",
        "    clientWML.runtimes.LibraryMetaNames.NAME: \"my_custom_sklearn_transform_8\",\n",
        "    clientWML.runtimes.LibraryMetaNames.DESCRIPTION: \"A custom sklearn transform\",\n",
        "    clientWML.runtimes.LibraryMetaNames.FILEPATH: \"sklearn_transforms.zip\",  # Note que estamos utilizando o .zip criado anteriormente!\n",
        "    clientWML.runtimes.LibraryMetaNames.VERSION: \"1.0\",\n",
        "    clientWML.runtimes.LibraryMetaNames.PLATFORM: { \"name\": \"python\", \"versions\": [\"3.6\"] }\n",
        "}\n",
        "custom_package_details = clientWML.runtimes.store_library( pkg_meta )\n",
        "custom_package_uid = clientWML.runtimes.get_library_uid( custom_package_details )\n",
        "\n",
        "print(\"\\n Lista de artefatos de runtime armazenados no WML:\")\n",
        "clientWML.repository.list()"
      ],
      "execution_count": null,
      "outputs": [
        {
          "output_type": "stream",
          "text": [
            "\n",
            " Lista de artefatos de runtime armazenados no WML:\n",
            "------------------------------------  -------------------------------  ------------------------  -----------------  -----------------\n",
            "GUID                                  NAME                             CREATED                   FRAMEWORK          TYPE\n",
            "864eb045-9759-44ee-96d0-80b8690393b0  desafio-2-mbtc2020-pipeline-1    2020-08-17T19:20:18.420Z  scikit-learn-0.20  model\n",
            "48332616-58de-4a38-a08f-ec2223300809  desafio-2-mbtc2020-pipeline-1    2020-08-17T18:18:01.656Z  scikit-learn-0.20  model\n",
            "ffeca093-e781-4e53-a523-e245c908aac0  desafio-2-mbtc2020-pipeline-1    2020-08-17T18:09:25.454Z  scikit-learn-0.20  model\n",
            "ea0c0cd9-cc8a-4b42-b2d3-aeae212224f9  desafio-2-mbtc2020-pipeline-1    2020-08-17T17:57:47.049Z  scikit-learn-0.20  model\n",
            "747f8ccf-2486-4b2f-bbce-35191b629eae  desafio-2-mbtc2020-deployment-1  2020-08-17T19:20:31.733Z  scikit-learn-0.20  online deployment\n",
            "809e7a70-bca1-4e34-b8c5-f1380872b93a  desafio-2-mbtc2020-deployment-1  2020-08-17T18:18:15.877Z  scikit-learn-0.20  online deployment\n",
            "269d0788-44b8-4a82-97d1-7ca16071cbd4  desafio-2-mbtc2020-deployment-1  2020-08-17T18:16:13.851Z  scikit-learn-0.20  online deployment\n",
            "7d3ea054-e2d6-478b-a566-2855d0b18e8c  desafio-2-mbtc2020-deployment-1  2020-08-17T18:09:39.371Z  scikit-learn-0.20  online deployment\n",
            "86368bbf-f773-4464-8145-99b805511d79  desafio-2-mbtc2020-deployment-1  2020-08-17T17:57:59.937Z  scikit-learn-0.20  online deployment\n",
            "5ea0f688-3eef-493e-8d7d-d4d38fb8acd6  my_custom_sklearn_transform_8    2020-08-18T19:12:35.722Z  -                  python library\n",
            "05b32281-637d-419e-a9db-bc1ed6c0e90d  my_custom_sklearn_transform_7    2020-08-17T19:20:06.412Z  -                  python library\n",
            "6fde8d43-bb3b-457f-ae2d-e72495b1e5de  my_custom_sklearn_transform_6    2020-08-17T18:17:06.533Z  -                  python library\n",
            "0acba285-f97c-4257-ab20-5af5b153b32a  my_custom_sklearn_transform_5    2020-08-17T18:09:11.540Z  -                  python library\n",
            "0b01d6b0-7f89-41c1-a316-5ec332acc713  my_custom_sklearn_transform_4    2020-08-17T17:57:18.049Z  -                  python library\n",
            "886916f0-7d55-46e8-ba3c-cf4c44236dfc  my_custom_sklearn_transform_3    2020-08-17T17:08:11.509Z  -                  python library\n",
            "b6b17cda-b177-4bb8-91c6-d9a365be9751  my_custom_sklearn_transform_2    2020-08-17T16:56:46.202Z  -                  python library\n",
            "2331fb47-89c5-4fc5-b62b-7a44bded95dd  my_custom_sklearn_transform_1    2020-08-17T15:19:15.559Z  -                  python library\n",
            "8b7ff3d9-c023-4f97-9bd9-7e35a7115c31  my_custom_wml_runtime_7          2020-08-17T19:20:12.797Z  -                  python runtime\n",
            "9847452a-e5e5-4a6d-9bcc-83c3aee92a8b  my_custom_wml_runtime_4          2020-08-17T18:17:08.976Z  -                  python runtime\n",
            "00f0c2b8-84c0-414e-99d0-f0b52976ecf0  my_custom_wml_runtime_4          2020-08-17T18:09:13.809Z  -                  python runtime\n",
            "b5363d75-80a8-4acb-b67d-aebebe2ff6a5  my_custom_wml_runtime_4          2020-08-17T17:57:28.704Z  -                  python runtime\n",
            "1d95e568-aec4-47cd-90c5-17819b1165e4  my_custom_wml_runtime_3          2020-08-17T17:08:18.758Z  -                  python runtime\n",
            "acd4e259-eaeb-4aa6-a3a2-037a8e30ba7c  my_custom_wml_runtime_2          2020-08-17T17:05:19.285Z  -                  python runtime\n",
            "066c923b-27e4-46dc-9031-b53e0957c176  my_custom_wml_runtime_1          2020-08-17T17:02:41.846Z  -                  python runtime\n",
            "c58bac89-61ed-4cdf-8a94-2a0025bd33d7  my_custom_wml_runtime_1          2020-08-17T17:01:18.942Z  -                  python runtime\n",
            "e4514e9a-16d4-4f1f-ac02-0687bd9ee3cd  my_custom_wml_runtime_1          2020-08-17T16:56:51.469Z  -                  python runtime\n",
            "9e4e7774-4db9-48dd-87f7-9750b35357c2  my_custom_wml_runtime_1          2020-08-17T15:19:22.087Z  -                  python runtime\n",
            "------------------------------------  -------------------------------  ------------------------  -----------------  -----------------\n"
          ],
          "name": "stdout"
        }
      ]
    },
    {
      "cell_type": "markdown",
      "metadata": {
        "id": "Dco0OgBt1Rg8",
        "colab_type": "text"
      },
      "source": [
        "#### Criando uma nova definição de runtime Python personalizado no WML\n",
        "\n",
        "O segundo passo é armazenar uma definição de runtime Python para utilizar a nossa biblioteca personalizada.\n",
        "\n",
        "Isso pode ser feito da seguinte forma:"
      ]
    },
    {
      "cell_type": "code",
      "metadata": {
        "id": "ePQVq4Ah1Rg9",
        "colab_type": "code",
        "colab": {},
        "outputId": "2cfca8b4-f2f1-40db-b8e5-5aaa86ca2195"
      },
      "source": [
        "runtime_meta = {\n",
        "    clientWML.runtimes.ConfigurationMetaNames.NAME: \"my_custom_wml_runtime_7\",\n",
        "    clientWML.runtimes.ConfigurationMetaNames.DESCRIPTION: \"A Python runtime with custom sklearn Transforms\",\n",
        "    clientWML.runtimes.ConfigurationMetaNames.PLATFORM: {\n",
        "        \"name\": \"python\",\n",
        "        \"version\": \"3.6\"\n",
        "    },\n",
        "    clientWML.runtimes.ConfigurationMetaNames.LIBRARIES_UIDS: [ custom_package_uid ]\n",
        "}\n",
        "runtime_details = clientWML.runtimes.store( runtime_meta )\n",
        "custom_runtime_uid = clientWML.runtimes.get_uid( runtime_details )\n",
        "\n",
        "print(\"\\n Detalhes do runtime armazenado:\")\n",
        "print(json.dumps(runtime_details, indent=4))"
      ],
      "execution_count": null,
      "outputs": [
        {
          "output_type": "stream",
          "text": [
            "\n",
            " Detalhes do runtime armazenado:\n",
            "{\n",
            "    \"metadata\": {\n",
            "        \"guid\": \"fabee661-4303-45f6-a232-f4ad748d41aa\",\n",
            "        \"url\": \"https://eu-de.ml.cloud.ibm.com/v4/runtimes/fabee661-4303-45f6-a232-f4ad748d41aa\",\n",
            "        \"created_at\": \"2020-08-18T19:12:38.485Z\"\n",
            "    },\n",
            "    \"entity\": {\n",
            "        \"name\": \"my_custom_wml_runtime_7\",\n",
            "        \"description\": \"A Python runtime with custom sklearn Transforms\",\n",
            "        \"custom_libraries\": [\n",
            "            {\n",
            "                \"name\": \"my_custom_sklearn_transform_8\",\n",
            "                \"version\": \"1.0\",\n",
            "                \"url\": \"https://private.eu-de.ml.cloud.ibm.com/v4/libraries/5ea0f688-3eef-493e-8d7d-d4d38fb8acd6\"\n",
            "            }\n",
            "        ],\n",
            "        \"content_url\": \"https://private.eu-de.ml.cloud.ibm.com/v4/runtimes/fabee661-4303-45f6-a232-f4ad748d41aa/content\",\n",
            "        \"platform\": {\n",
            "            \"name\": \"python\",\n",
            "            \"version\": \"3.6\"\n",
            "        }\n",
            "    }\n",
            "}\n"
          ],
          "name": "stdout"
        }
      ]
    },
    {
      "cell_type": "code",
      "metadata": {
        "id": "xBGdA7by1Rg_",
        "colab_type": "code",
        "colab": {},
        "outputId": "335fbe42-16e7-4092-94cc-695dbb359105"
      },
      "source": [
        "# Listando todos runtimes armazenados no seu WML:\n",
        "clientWML.runtimes.list()"
      ],
      "execution_count": null,
      "outputs": [
        {
          "output_type": "stream",
          "text": [
            "------------------------------------  -----------------------  ------------------------  ----------\n",
            "GUID                                  NAME                     CREATED                   PLATFORM\n",
            "fabee661-4303-45f6-a232-f4ad748d41aa  my_custom_wml_runtime_7  2020-08-18T19:12:38.485Z  python-3.6\n",
            "8b7ff3d9-c023-4f97-9bd9-7e35a7115c31  my_custom_wml_runtime_7  2020-08-17T19:20:12.797Z  python-3.6\n",
            "9847452a-e5e5-4a6d-9bcc-83c3aee92a8b  my_custom_wml_runtime_4  2020-08-17T18:17:08.976Z  python-3.6\n",
            "00f0c2b8-84c0-414e-99d0-f0b52976ecf0  my_custom_wml_runtime_4  2020-08-17T18:09:13.809Z  python-3.6\n",
            "b5363d75-80a8-4acb-b67d-aebebe2ff6a5  my_custom_wml_runtime_4  2020-08-17T17:57:28.704Z  python-3.6\n",
            "1d95e568-aec4-47cd-90c5-17819b1165e4  my_custom_wml_runtime_3  2020-08-17T17:08:18.758Z  python-3.6\n",
            "acd4e259-eaeb-4aa6-a3a2-037a8e30ba7c  my_custom_wml_runtime_2  2020-08-17T17:05:19.285Z  python-3.6\n",
            "066c923b-27e4-46dc-9031-b53e0957c176  my_custom_wml_runtime_1  2020-08-17T17:02:41.846Z  python-3.6\n",
            "c58bac89-61ed-4cdf-8a94-2a0025bd33d7  my_custom_wml_runtime_1  2020-08-17T17:01:18.942Z  python-3.6\n",
            "e4514e9a-16d4-4f1f-ac02-0687bd9ee3cd  my_custom_wml_runtime_1  2020-08-17T16:56:51.469Z  python-3.6\n",
            "9e4e7774-4db9-48dd-87f7-9750b35357c2  my_custom_wml_runtime_1  2020-08-17T15:19:22.087Z  python-3.6\n",
            "------------------------------------  -----------------------  ------------------------  ----------\n"
          ],
          "name": "stdout"
        }
      ]
    },
    {
      "cell_type": "markdown",
      "metadata": {
        "id": "oDC2z9De1RhD",
        "colab_type": "text"
      },
      "source": [
        "#### Criando uma nova definição de Pipeline personalizada no WML\n",
        "\n",
        "Finalmente iremos criar uma definição (metadados) para a nossa Pipeline ser hospedada no WML.\n",
        "\n",
        "Definimos como parâmetros um nome para o artefato e o ID do runtime criado anteriormente."
      ]
    },
    {
      "cell_type": "code",
      "metadata": {
        "id": "eMJvSNHt1RhD",
        "colab_type": "code",
        "colab": {}
      },
      "source": [
        "model_meta = {\n",
        "    clientWML.repository.ModelMetaNames.NAME: 'desafio-2-mbtc2020-pipeline-1',\n",
        "    clientWML.repository.ModelMetaNames.DESCRIPTION: \"my pipeline for submission\",\n",
        "    clientWML.repository.ModelMetaNames.RUNTIME_UID: custom_runtime_uid\n",
        "}"
      ],
      "execution_count": null,
      "outputs": []
    },
    {
      "cell_type": "markdown",
      "metadata": {
        "id": "Oj4B4Oib1RhF",
        "colab_type": "text"
      },
      "source": [
        "Em seguida chamamos o método para armazenar a nova definição:"
      ]
    },
    {
      "cell_type": "code",
      "metadata": {
        "id": "QawcSC9J1RhF",
        "colab_type": "code",
        "colab": {},
        "outputId": "e30eb897-8ed2-46e7-b4d8-4dc0d66ef09e"
      },
      "source": [
        "# Função para armazenar uma definição de Pipeline no WML\n",
        "stored_model_details = clientWML.repository.store_model(\n",
        "    model=my_pipeline,  # `my_pipeline` é a variável criada anteriormente e contém nossa Pipeline já treinada :)\n",
        "    meta_props=model_meta,  # Metadados definidos na célula anterior\n",
        "    training_data=None  # Não altere esse parâmetro\n",
        ")\n",
        "\n",
        "print(\"\\n Lista de artefatos armazenados no WML:\")\n",
        "clientWML.repository.list()\n",
        "\n",
        "# Detalhes do modelo hospedado no Watson Machine Learning\n",
        "print(\"\\n Metadados do modelo armazenado:\")\n",
        "print(json.dumps(stored_model_details, indent=4))"
      ],
      "execution_count": null,
      "outputs": [
        {
          "output_type": "stream",
          "text": [
            "\n",
            " Lista de artefatos armazenados no WML:\n",
            "------------------------------------  -------------------------------  ------------------------  -----------------  -----------------\n",
            "GUID                                  NAME                             CREATED                   FRAMEWORK          TYPE\n",
            "96b4905e-4c8e-43ae-a8a5-74d24e43a79f  desafio-2-mbtc2020-pipeline-1    2020-08-18T19:12:44.780Z  scikit-learn-0.20  model\n",
            "864eb045-9759-44ee-96d0-80b8690393b0  desafio-2-mbtc2020-pipeline-1    2020-08-17T19:20:18.420Z  scikit-learn-0.20  model\n",
            "48332616-58de-4a38-a08f-ec2223300809  desafio-2-mbtc2020-pipeline-1    2020-08-17T18:18:01.656Z  scikit-learn-0.20  model\n",
            "ffeca093-e781-4e53-a523-e245c908aac0  desafio-2-mbtc2020-pipeline-1    2020-08-17T18:09:25.454Z  scikit-learn-0.20  model\n",
            "ea0c0cd9-cc8a-4b42-b2d3-aeae212224f9  desafio-2-mbtc2020-pipeline-1    2020-08-17T17:57:47.049Z  scikit-learn-0.20  model\n",
            "747f8ccf-2486-4b2f-bbce-35191b629eae  desafio-2-mbtc2020-deployment-1  2020-08-17T19:20:31.733Z  scikit-learn-0.20  online deployment\n",
            "809e7a70-bca1-4e34-b8c5-f1380872b93a  desafio-2-mbtc2020-deployment-1  2020-08-17T18:18:15.877Z  scikit-learn-0.20  online deployment\n",
            "269d0788-44b8-4a82-97d1-7ca16071cbd4  desafio-2-mbtc2020-deployment-1  2020-08-17T18:16:13.851Z  scikit-learn-0.20  online deployment\n",
            "7d3ea054-e2d6-478b-a566-2855d0b18e8c  desafio-2-mbtc2020-deployment-1  2020-08-17T18:09:39.371Z  scikit-learn-0.20  online deployment\n",
            "86368bbf-f773-4464-8145-99b805511d79  desafio-2-mbtc2020-deployment-1  2020-08-17T17:57:59.937Z  scikit-learn-0.20  online deployment\n",
            "5ea0f688-3eef-493e-8d7d-d4d38fb8acd6  my_custom_sklearn_transform_8    2020-08-18T19:12:35.722Z  -                  python library\n",
            "05b32281-637d-419e-a9db-bc1ed6c0e90d  my_custom_sklearn_transform_7    2020-08-17T19:20:06.412Z  -                  python library\n",
            "6fde8d43-bb3b-457f-ae2d-e72495b1e5de  my_custom_sklearn_transform_6    2020-08-17T18:17:06.533Z  -                  python library\n",
            "0acba285-f97c-4257-ab20-5af5b153b32a  my_custom_sklearn_transform_5    2020-08-17T18:09:11.540Z  -                  python library\n",
            "0b01d6b0-7f89-41c1-a316-5ec332acc713  my_custom_sklearn_transform_4    2020-08-17T17:57:18.049Z  -                  python library\n",
            "886916f0-7d55-46e8-ba3c-cf4c44236dfc  my_custom_sklearn_transform_3    2020-08-17T17:08:11.509Z  -                  python library\n",
            "b6b17cda-b177-4bb8-91c6-d9a365be9751  my_custom_sklearn_transform_2    2020-08-17T16:56:46.202Z  -                  python library\n",
            "2331fb47-89c5-4fc5-b62b-7a44bded95dd  my_custom_sklearn_transform_1    2020-08-17T15:19:15.559Z  -                  python library\n",
            "fabee661-4303-45f6-a232-f4ad748d41aa  my_custom_wml_runtime_7          2020-08-18T19:12:38.485Z  -                  python runtime\n",
            "8b7ff3d9-c023-4f97-9bd9-7e35a7115c31  my_custom_wml_runtime_7          2020-08-17T19:20:12.797Z  -                  python runtime\n",
            "9847452a-e5e5-4a6d-9bcc-83c3aee92a8b  my_custom_wml_runtime_4          2020-08-17T18:17:08.976Z  -                  python runtime\n",
            "00f0c2b8-84c0-414e-99d0-f0b52976ecf0  my_custom_wml_runtime_4          2020-08-17T18:09:13.809Z  -                  python runtime\n",
            "b5363d75-80a8-4acb-b67d-aebebe2ff6a5  my_custom_wml_runtime_4          2020-08-17T17:57:28.704Z  -                  python runtime\n",
            "1d95e568-aec4-47cd-90c5-17819b1165e4  my_custom_wml_runtime_3          2020-08-17T17:08:18.758Z  -                  python runtime\n",
            "acd4e259-eaeb-4aa6-a3a2-037a8e30ba7c  my_custom_wml_runtime_2          2020-08-17T17:05:19.285Z  -                  python runtime\n",
            "066c923b-27e4-46dc-9031-b53e0957c176  my_custom_wml_runtime_1          2020-08-17T17:02:41.846Z  -                  python runtime\n",
            "c58bac89-61ed-4cdf-8a94-2a0025bd33d7  my_custom_wml_runtime_1          2020-08-17T17:01:18.942Z  -                  python runtime\n",
            "e4514e9a-16d4-4f1f-ac02-0687bd9ee3cd  my_custom_wml_runtime_1          2020-08-17T16:56:51.469Z  -                  python runtime\n",
            "9e4e7774-4db9-48dd-87f7-9750b35357c2  my_custom_wml_runtime_1          2020-08-17T15:19:22.087Z  -                  python runtime\n",
            "------------------------------------  -------------------------------  ------------------------  -----------------  -----------------\n",
            "\n",
            " Metadados do modelo armazenado:\n",
            "{\n",
            "    \"metadata\": {\n",
            "        \"guid\": \"96b4905e-4c8e-43ae-a8a5-74d24e43a79f\",\n",
            "        \"url\": \"https://eu-de.ml.cloud.ibm.com/v3/wml_instances/9d01aaf1-612f-457e-9df3-c123eadbd02d/published_models/96b4905e-4c8e-43ae-a8a5-74d24e43a79f\",\n",
            "        \"created_at\": \"2020-08-18T19:12:44.780Z\",\n",
            "        \"modified_at\": \"2020-08-18T19:12:44.835Z\"\n",
            "    },\n",
            "    \"entity\": {\n",
            "        \"runtime_environment\": \"python-3.6\",\n",
            "        \"learning_configuration_url\": \"https://eu-de.ml.cloud.ibm.com/v3/wml_instances/9d01aaf1-612f-457e-9df3-c123eadbd02d/published_models/96b4905e-4c8e-43ae-a8a5-74d24e43a79f/learning_configuration\",\n",
            "        \"name\": \"desafio-2-mbtc2020-pipeline-1\",\n",
            "        \"description\": \"my pipeline for submission\",\n",
            "        \"learning_iterations_url\": \"https://eu-de.ml.cloud.ibm.com/v3/wml_instances/9d01aaf1-612f-457e-9df3-c123eadbd02d/published_models/96b4905e-4c8e-43ae-a8a5-74d24e43a79f/learning_iterations\",\n",
            "        \"feedback_url\": \"https://eu-de.ml.cloud.ibm.com/v3/wml_instances/9d01aaf1-612f-457e-9df3-c123eadbd02d/published_models/96b4905e-4c8e-43ae-a8a5-74d24e43a79f/feedback\",\n",
            "        \"latest_version\": {\n",
            "            \"url\": \"https://eu-de.ml.cloud.ibm.com/v3/ml_assets/models/96b4905e-4c8e-43ae-a8a5-74d24e43a79f/versions/5e455569-0548-44a0-921f-1686cf99a759\",\n",
            "            \"guid\": \"5e455569-0548-44a0-921f-1686cf99a759\",\n",
            "            \"created_at\": \"2020-08-18T19:12:44.835Z\"\n",
            "        },\n",
            "        \"model_type\": \"scikit-learn-0.20\",\n",
            "        \"deployments\": {\n",
            "            \"count\": 0,\n",
            "            \"url\": \"https://eu-de.ml.cloud.ibm.com/v3/wml_instances/9d01aaf1-612f-457e-9df3-c123eadbd02d/published_models/96b4905e-4c8e-43ae-a8a5-74d24e43a79f/deployments\"\n",
            "        },\n",
            "        \"evaluation_metrics_url\": \"https://eu-de.ml.cloud.ibm.com/v3/wml_instances/9d01aaf1-612f-457e-9df3-c123eadbd02d/published_models/96b4905e-4c8e-43ae-a8a5-74d24e43a79f/evaluation_metrics\",\n",
            "        \"runtime\": {\n",
            "            \"url\": \"https://eu-de.ml.cloud.ibm.com/v4/runtimes/fabee661-4303-45f6-a232-f4ad748d41aa\"\n",
            "        }\n",
            "    }\n",
            "}\n"
          ],
          "name": "stdout"
        }
      ]
    },
    {
      "cell_type": "markdown",
      "metadata": {
        "id": "VLsLbJTi1RhK",
        "colab_type": "text"
      },
      "source": [
        "#### Realizando o deployment do seu modelo para consumo imediato por outras aplicações"
      ]
    },
    {
      "cell_type": "code",
      "metadata": {
        "id": "0AUINHGD1RhK",
        "colab_type": "code",
        "colab": {},
        "outputId": "615026f9-cc2c-4ab2-8575-d4a02c1a357e"
      },
      "source": [
        "# O deployment do modelo é finalmente realizado por meio do método ``deployments.create()``\n",
        "\n",
        "model_deployment_details = clientWML.deployments.create(\n",
        "    artifact_uid=stored_model_details[\"metadata\"][\"guid\"],  # Não altere esse parâmetro\n",
        "    name=\"desafio-2-mbtc2020-deployment-1\",\n",
        "    description=\"Solução do desafio 2 - MBTC\",\n",
        "    asynchronous=False,  # Não altere esse parâmetro\n",
        "    deployment_type='online',  # Não altere esse parâmetro\n",
        "    deployment_format='Core ML',  # Não altere esse parâmetro\n",
        "    meta_props=model_meta  # Não altere esse parâmetro\n",
        ")"
      ],
      "execution_count": null,
      "outputs": [
        {
          "output_type": "stream",
          "text": [
            "{\"trace\":\"a42c4a609ce604f58b243ea8201306bc\",\"errors\":[{\"code\":\"deployments_plan_limit_reached\",\"message\":\"Current plan 'lite' only allows 5 deployments\"}]}\n",
            "\n",
            "\n",
            "--------------------------\n",
            "Deployment creation failed\n",
            "--------------------------\n",
            "\n",
            "\n"
          ],
          "name": "stdout"
        },
        {
          "output_type": "error",
          "ename": "WMLClientError",
          "evalue": "Deployment creation failed. Error: 402. {\"trace\":\"a42c4a609ce604f58b243ea8201306bc\",\"errors\":[{\"code\":\"deployments_plan_limit_reached\",\"message\":\"Current plan 'lite' only allows 5 deployments\"}]}",
          "traceback": [
            "\u001b[0;31m---------------------------------------------------------------------------\u001b[0m",
            "\u001b[0;31mWMLClientError\u001b[0m                            Traceback (most recent call last)",
            "\u001b[0;32m<ipython-input-32-b4f41d0e3263>\u001b[0m in \u001b[0;36m<module>\u001b[0;34m\u001b[0m\n\u001b[1;32m      8\u001b[0m     \u001b[0mdeployment_type\u001b[0m\u001b[0;34m=\u001b[0m\u001b[0;34m'online'\u001b[0m\u001b[0;34m,\u001b[0m  \u001b[0;31m# Não altere esse parâmetro\u001b[0m\u001b[0;34m\u001b[0m\u001b[0;34m\u001b[0m\u001b[0m\n\u001b[1;32m      9\u001b[0m     \u001b[0mdeployment_format\u001b[0m\u001b[0;34m=\u001b[0m\u001b[0;34m'Core ML'\u001b[0m\u001b[0;34m,\u001b[0m  \u001b[0;31m# Não altere esse parâmetro\u001b[0m\u001b[0;34m\u001b[0m\u001b[0;34m\u001b[0m\u001b[0m\n\u001b[0;32m---> 10\u001b[0;31m     \u001b[0mmeta_props\u001b[0m\u001b[0;34m=\u001b[0m\u001b[0mmodel_meta\u001b[0m  \u001b[0;31m# Não altere esse parâmetro\u001b[0m\u001b[0;34m\u001b[0m\u001b[0;34m\u001b[0m\u001b[0m\n\u001b[0m\u001b[1;32m     11\u001b[0m )\n",
            "\u001b[0;32m/opt/conda/envs/Python36/lib/python3.6/site-packages/watson_machine_learning_client/deployments.py\u001b[0m in \u001b[0;36mcreate\u001b[0;34m(self, artifact_uid, name, description, asynchronous, deployment_type, deployment_format, meta_props, **kwargs)\u001b[0m\n\u001b[1;32m    555\u001b[0m                 \u001b[0mprint\u001b[0m\u001b[0;34m(\u001b[0m\u001b[0mreason\u001b[0m\u001b[0;34m)\u001b[0m\u001b[0;34m\u001b[0m\u001b[0;34m\u001b[0m\u001b[0m\n\u001b[1;32m    556\u001b[0m                 \u001b[0mprint_text_header_h2\u001b[0m\u001b[0;34m(\u001b[0m\u001b[0merror_msg\u001b[0m\u001b[0;34m)\u001b[0m\u001b[0;34m\u001b[0m\u001b[0;34m\u001b[0m\u001b[0m\n\u001b[0;32m--> 557\u001b[0;31m                 \u001b[0;32mraise\u001b[0m \u001b[0mWMLClientError\u001b[0m\u001b[0;34m(\u001b[0m\u001b[0merror_msg\u001b[0m \u001b[0;34m+\u001b[0m \u001b[0;34m'. Error: '\u001b[0m \u001b[0;34m+\u001b[0m \u001b[0mstr\u001b[0m\u001b[0;34m(\u001b[0m\u001b[0mresponse\u001b[0m\u001b[0;34m.\u001b[0m\u001b[0mstatus_code\u001b[0m\u001b[0;34m)\u001b[0m \u001b[0;34m+\u001b[0m \u001b[0;34m'. '\u001b[0m \u001b[0;34m+\u001b[0m \u001b[0mreason\u001b[0m\u001b[0;34m)\u001b[0m\u001b[0;34m\u001b[0m\u001b[0;34m\u001b[0m\u001b[0m\n\u001b[0m\u001b[1;32m    558\u001b[0m \u001b[0;34m\u001b[0m\u001b[0m\n\u001b[1;32m    559\u001b[0m     \u001b[0;32mdef\u001b[0m \u001b[0m_create_online\u001b[0m\u001b[0;34m(\u001b[0m\u001b[0mself\u001b[0m\u001b[0;34m,\u001b[0m \u001b[0mmodel_uid\u001b[0m\u001b[0;34m,\u001b[0m \u001b[0mname\u001b[0m\u001b[0;34m,\u001b[0m \u001b[0mdescription\u001b[0m\u001b[0;34m)\u001b[0m\u001b[0;34m:\u001b[0m\u001b[0;34m\u001b[0m\u001b[0;34m\u001b[0m\u001b[0m\n",
            "\u001b[0;31mWMLClientError\u001b[0m: Deployment creation failed. Error: 402. {\"trace\":\"a42c4a609ce604f58b243ea8201306bc\",\"errors\":[{\"code\":\"deployments_plan_limit_reached\",\"message\":\"Current plan 'lite' only allows 5 deployments\"}]}"
          ]
        }
      ]
    },
    {
      "cell_type": "markdown",
      "metadata": {
        "id": "hYwTLGlo1RhN",
        "colab_type": "text"
      },
      "source": [
        "#### Testando um modelo hospedado no Watson Machine Learning"
      ]
    },
    {
      "cell_type": "code",
      "metadata": {
        "id": "rxEUlJSq1RhN",
        "colab_type": "code",
        "colab": {}
      },
      "source": [
        "# Recuperando a URL endpoint do modelo hospedado na célula anterior\n",
        "\n",
        "model_endpoint_url = clientWML.deployments.get_scoring_url(model_deployment_details)\n",
        "print(\"A URL de chamada da sua API é: {}\".format(model_endpoint_url))"
      ],
      "execution_count": null,
      "outputs": []
    },
    {
      "cell_type": "code",
      "metadata": {
        "id": "8_ymatpr1RhP",
        "colab_type": "code",
        "colab": {},
        "outputId": "87f9f6e5-6583-40fa-8c72-d15d70e791c5"
      },
      "source": [
        "# Detalhes do deployment realizado\n",
        "\n",
        "deployment_details = clientWML.deployments.get_details(\n",
        "    deployment_uid=model_deployment_details[\"metadata\"][\"guid\"]  # esse é o ID do seu deployment!\n",
        ")\n",
        "\n",
        "print(\"Metadados do deployment realizado: \\n\")\n",
        "print(json.dumps(deployment_details, indent=4))"
      ],
      "execution_count": null,
      "outputs": [
        {
          "output_type": "stream",
          "text": [
            "Metadados do deployment realizado: \n",
            "\n",
            "{\n",
            "    \"metadata\": {\n",
            "        \"guid\": \"747f8ccf-2486-4b2f-bbce-35191b629eae\",\n",
            "        \"url\": \"https://eu-de.ml.cloud.ibm.com/v3/wml_instances/9d01aaf1-612f-457e-9df3-c123eadbd02d/deployments/747f8ccf-2486-4b2f-bbce-35191b629eae\",\n",
            "        \"created_at\": \"2020-08-17T19:20:31.733Z\",\n",
            "        \"modified_at\": \"2020-08-17T19:20:32.190Z\"\n",
            "    },\n",
            "    \"entity\": {\n",
            "        \"runtime_environment\": \"python-3.6\",\n",
            "        \"name\": \"desafio-2-mbtc2020-deployment-1\",\n",
            "        \"scoring_url\": \"https://eu-de.ml.cloud.ibm.com/v3/wml_instances/9d01aaf1-612f-457e-9df3-c123eadbd02d/deployments/747f8ccf-2486-4b2f-bbce-35191b629eae/online\",\n",
            "        \"deployable_asset\": {\n",
            "            \"name\": \"desafio-2-mbtc2020-pipeline-1\",\n",
            "            \"url\": \"https://eu-de.ml.cloud.ibm.com/v3/wml_instances/9d01aaf1-612f-457e-9df3-c123eadbd02d/published_models/864eb045-9759-44ee-96d0-80b8690393b0\",\n",
            "            \"guid\": \"864eb045-9759-44ee-96d0-80b8690393b0\",\n",
            "            \"description\": \"my pipeline for submission\",\n",
            "            \"created_at\": \"2020-08-17T19:20:31.711Z\",\n",
            "            \"type\": \"model\"\n",
            "        },\n",
            "        \"description\": \"Solu\\u00e7\\u00e3o do desafio 2 - MBTC\",\n",
            "        \"status_details\": {\n",
            "            \"status\": \"DEPLOY_SUCCESS\"\n",
            "        },\n",
            "        \"model_type\": \"scikit-learn-0.20\",\n",
            "        \"status\": \"DEPLOY_SUCCESS\",\n",
            "        \"type\": \"online\",\n",
            "        \"deployed_version\": {\n",
            "            \"url\": \"https://eu-de.ml.cloud.ibm.com/v3/ml_assets/models/864eb045-9759-44ee-96d0-80b8690393b0/versions/6e3e2114-ae7f-46b8-80b2-abcc04a42da4\",\n",
            "            \"guid\": \"6e3e2114-ae7f-46b8-80b2-abcc04a42da4\"\n",
            "        }\n",
            "    }\n",
            "}\n"
          ],
          "name": "stdout"
        }
      ]
    },
    {
      "cell_type": "code",
      "metadata": {
        "scrolled": false,
        "id": "3rYNXB7Q1RhT",
        "colab_type": "code",
        "colab": {},
        "outputId": "ff573075-40ae-4d54-ce30-5fbcb8efbcd0"
      },
      "source": [
        "scoring_payload = {\n",
        "    'fields': [\n",
        "        \"MATRICULA\", \"NOME\", 'REPROVACOES_DE', 'REPROVACOES_EM', \"REPROVACOES_MF\", \"REPROVACOES_GO\",\n",
        "        \"NOTA_DE\", \"NOTA_EM\", \"NOTA_MF\", \"NOTA_GO\",\n",
        "        \"INGLES\", \"H_AULA_PRES\", \"TAREFAS_ONLINE\", \"FALTAS\", \n",
        "    ],\n",
        "    'values': [\n",
        "        [\n",
        "            513949,\"Marli Quésia de Oliveira\",1,1,1,1,4.3,4.0,3.1,4.9,0,3,4,3,\n",
        "        ]\n",
        "    ]\n",
        "}\n",
        "\n",
        "print(\"\\n Payload de dados a ser classificada:\")\n",
        "print(json.dumps(scoring_payload, indent=4))"
      ],
      "execution_count": null,
      "outputs": [
        {
          "output_type": "stream",
          "text": [
            "\n",
            " Payload de dados a ser classificada:\n",
            "{\n",
            "    \"fields\": [\n",
            "        \"MATRICULA\",\n",
            "        \"NOME\",\n",
            "        \"REPROVACOES_DE\",\n",
            "        \"REPROVACOES_EM\",\n",
            "        \"REPROVACOES_MF\",\n",
            "        \"REPROVACOES_GO\",\n",
            "        \"NOTA_DE\",\n",
            "        \"NOTA_EM\",\n",
            "        \"NOTA_MF\",\n",
            "        \"NOTA_GO\",\n",
            "        \"INGLES\",\n",
            "        \"H_AULA_PRES\",\n",
            "        \"TAREFAS_ONLINE\",\n",
            "        \"FALTAS\"\n",
            "    ],\n",
            "    \"values\": [\n",
            "        [\n",
            "            513949,\n",
            "            \"Marli Qu\\u00e9sia de Oliveira\",\n",
            "            1,\n",
            "            1,\n",
            "            1,\n",
            "            1,\n",
            "            4.3,\n",
            "            4.0,\n",
            "            3.1,\n",
            "            4.9,\n",
            "            0,\n",
            "            3,\n",
            "            4,\n",
            "            3\n",
            "        ]\n",
            "    ]\n",
            "}\n"
          ],
          "name": "stdout"
        }
      ]
    },
    {
      "cell_type": "code",
      "metadata": {
        "id": "BtMFSkOx1RhV",
        "colab_type": "code",
        "colab": {},
        "outputId": "7c14d679-0f88-4a67-c381-aacc092c5467"
      },
      "source": [
        "result = clientWML.deployments.score(\n",
        "    model_endpoint_url,\n",
        "    scoring_payload\n",
        ")\n",
        "\n",
        "print(\"\\n Resultados:\")\n",
        "print(json.dumps(result, indent=4))"
      ],
      "execution_count": null,
      "outputs": [
        {
          "output_type": "error",
          "ename": "NameError",
          "evalue": "name 'model_endpoint_url' is not defined",
          "traceback": [
            "\u001b[0;31m---------------------------------------------------------------------------\u001b[0m",
            "\u001b[0;31mNameError\u001b[0m                                 Traceback (most recent call last)",
            "\u001b[0;32m<ipython-input-34-278d7986fab6>\u001b[0m in \u001b[0;36m<module>\u001b[0;34m\u001b[0m\n\u001b[1;32m      1\u001b[0m result = clientWML.deployments.score(\n\u001b[0;32m----> 2\u001b[0;31m     \u001b[0mmodel_endpoint_url\u001b[0m\u001b[0;34m,\u001b[0m\u001b[0;34m\u001b[0m\u001b[0;34m\u001b[0m\u001b[0m\n\u001b[0m\u001b[1;32m      3\u001b[0m     \u001b[0mscoring_payload\u001b[0m\u001b[0;34m\u001b[0m\u001b[0;34m\u001b[0m\u001b[0m\n\u001b[1;32m      4\u001b[0m )\n\u001b[1;32m      5\u001b[0m \u001b[0;34m\u001b[0m\u001b[0m\n",
            "\u001b[0;31mNameError\u001b[0m: name 'model_endpoint_url' is not defined"
          ]
        }
      ]
    },
    {
      "cell_type": "markdown",
      "metadata": {
        "id": "LNKl2tj11Rhc",
        "colab_type": "text"
      },
      "source": [
        "<hr>\n",
        "\n",
        "## Parabéns! \n",
        "\n",
        "Se tudo foi executado sem erros, você já tem um classificador baseado em machine learning encapsulado como uma API REST!\n",
        "\n",
        "Para testar a sua solução integrada com um assistente virtual e realizar a submissão, acesse a página:\n",
        "\n",
        "https://uninassau.maratona.dev\n",
        "\n",
        "Você irá precisar da endpoint url do seu modelo e das credenciais do WML :)"
      ]
    },
    {
      "cell_type": "code",
      "metadata": {
        "id": "2iCuzYMO1Rhc",
        "colab_type": "code",
        "colab": {}
      },
      "source": [
        ""
      ],
      "execution_count": null,
      "outputs": []
    }
  ]
}